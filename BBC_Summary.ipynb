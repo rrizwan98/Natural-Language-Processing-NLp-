{
  "nbformat": 4,
  "nbformat_minor": 5,
  "metadata": {
    "kernelspec": {
      "display_name": "conda_python3",
      "language": "python",
      "name": "conda_python3"
    },
    "language_info": {
      "codemirror_mode": {
        "name": "ipython",
        "version": 3
      },
      "file_extension": ".py",
      "mimetype": "text/x-python",
      "name": "python",
      "nbconvert_exporter": "python",
      "pygments_lexer": "ipython3",
      "version": "3.6.13"
    },
    "colab": {
      "name": "BBC-Summary.ipynb",
      "provenance": [],
      "include_colab_link": true
    }
  },
  "cells": [
    {
      "cell_type": "markdown",
      "metadata": {
        "id": "view-in-github",
        "colab_type": "text"
      },
      "source": [
        "<a href=\"https://colab.research.google.com/github/rrizwan98/Natural-Language-Processing-NLp-/blob/main/BBC_Summary.ipynb\" target=\"_parent\"><img src=\"https://colab.research.google.com/assets/colab-badge.svg\" alt=\"Open In Colab\"/></a>"
      ]
    },
    {
      "cell_type": "code",
      "metadata": {
        "id": "75b86192"
      },
      "source": [
        "import pandas as pd\n",
        "import numpy as np\n",
        "from matplotlib import pyplot as plt\n",
        "%matplotlib inline\n",
        "from nltk.stem import PorterStemmer \n",
        "from nltk.tokenize import word_tokenize \n",
        "import seaborn as sns"
      ],
      "id": "75b86192",
      "execution_count": null,
      "outputs": []
    },
    {
      "cell_type": "code",
      "metadata": {
        "id": "fec826a8",
        "outputId": "6281860c-0e2e-47aa-8230-ff42f391c8cc"
      },
      "source": [
        "data = pd.read_csv('bbc.csv')\n",
        "data.head()\n"
      ],
      "id": "fec826a8",
      "execution_count": null,
      "outputs": [
        {
          "data": {
            "text/html": [
              "<div>\n",
              "<style scoped>\n",
              "    .dataframe tbody tr th:only-of-type {\n",
              "        vertical-align: middle;\n",
              "    }\n",
              "\n",
              "    .dataframe tbody tr th {\n",
              "        vertical-align: top;\n",
              "    }\n",
              "\n",
              "    .dataframe thead th {\n",
              "        text-align: right;\n",
              "    }\n",
              "</style>\n",
              "<table border=\"1\" class=\"dataframe\">\n",
              "  <thead>\n",
              "    <tr style=\"text-align: right;\">\n",
              "      <th></th>\n",
              "      <th>Unnamed: 0</th>\n",
              "      <th>news</th>\n",
              "      <th>type</th>\n",
              "    </tr>\n",
              "  </thead>\n",
              "  <tbody>\n",
              "    <tr>\n",
              "      <th>0</th>\n",
              "      <td>0</td>\n",
              "      <td>Qatar and Shell in $6bn gas deal\\n \\n Shell ha...</td>\n",
              "      <td>business</td>\n",
              "    </tr>\n",
              "    <tr>\n",
              "      <th>1</th>\n",
              "      <td>1</td>\n",
              "      <td>Slowdown hits US factory growth\\n \\n US indust...</td>\n",
              "      <td>business</td>\n",
              "    </tr>\n",
              "    <tr>\n",
              "      <th>2</th>\n",
              "      <td>2</td>\n",
              "      <td>Call to overhaul UK state pension\\n \\n The UK ...</td>\n",
              "      <td>business</td>\n",
              "    </tr>\n",
              "    <tr>\n",
              "      <th>3</th>\n",
              "      <td>3</td>\n",
              "      <td>Bush to outline 'toughest' budget\\n \\n Preside...</td>\n",
              "      <td>business</td>\n",
              "    </tr>\n",
              "    <tr>\n",
              "      <th>4</th>\n",
              "      <td>4</td>\n",
              "      <td>Winter freeze keeps oil above $50\\n \\n Oil pri...</td>\n",
              "      <td>business</td>\n",
              "    </tr>\n",
              "  </tbody>\n",
              "</table>\n",
              "</div>"
            ],
            "text/plain": [
              "   Unnamed: 0                                               news      type\n",
              "0           0  Qatar and Shell in $6bn gas deal\\n \\n Shell ha...  business\n",
              "1           1  Slowdown hits US factory growth\\n \\n US indust...  business\n",
              "2           2  Call to overhaul UK state pension\\n \\n The UK ...  business\n",
              "3           3  Bush to outline 'toughest' budget\\n \\n Preside...  business\n",
              "4           4  Winter freeze keeps oil above $50\\n \\n Oil pri...  business"
            ]
          },
          "execution_count": 2,
          "metadata": {},
          "output_type": "execute_result"
        }
      ]
    },
    {
      "cell_type": "code",
      "metadata": {
        "id": "64422299",
        "outputId": "316f80e7-5d72-45b9-c89d-3007345f8470"
      },
      "source": [
        "data.sample(5, random_state=0)"
      ],
      "id": "64422299",
      "execution_count": null,
      "outputs": [
        {
          "data": {
            "text/html": [
              "<div>\n",
              "<style scoped>\n",
              "    .dataframe tbody tr th:only-of-type {\n",
              "        vertical-align: middle;\n",
              "    }\n",
              "\n",
              "    .dataframe tbody tr th {\n",
              "        vertical-align: top;\n",
              "    }\n",
              "\n",
              "    .dataframe thead th {\n",
              "        text-align: right;\n",
              "    }\n",
              "</style>\n",
              "<table border=\"1\" class=\"dataframe\">\n",
              "  <thead>\n",
              "    <tr style=\"text-align: right;\">\n",
              "      <th></th>\n",
              "      <th>Unnamed: 0</th>\n",
              "      <th>news</th>\n",
              "      <th>type</th>\n",
              "    </tr>\n",
              "  </thead>\n",
              "  <tbody>\n",
              "    <tr>\n",
              "      <th>384</th>\n",
              "      <td>384</td>\n",
              "      <td>Huge rush for Jet Airways shares\\n \\n Indian a...</td>\n",
              "      <td>business</td>\n",
              "    </tr>\n",
              "    <tr>\n",
              "      <th>1983</th>\n",
              "      <td>1983</td>\n",
              "      <td>TV's future down the phone line\\n \\n Internet ...</td>\n",
              "      <td>tech</td>\n",
              "    </tr>\n",
              "    <tr>\n",
              "      <th>985</th>\n",
              "      <td>985</td>\n",
              "      <td>Cabinet anger at Brown cash raid\\n \\n Minister...</td>\n",
              "      <td>politics</td>\n",
              "    </tr>\n",
              "    <tr>\n",
              "      <th>1386</th>\n",
              "      <td>1386</td>\n",
              "      <td>Campbell rescues Arsenal\\n \\n Sol Campbell pro...</td>\n",
              "      <td>sport</td>\n",
              "    </tr>\n",
              "    <tr>\n",
              "      <th>1294</th>\n",
              "      <td>1294</td>\n",
              "      <td>Blair 'up for it' ahead of poll\\n \\n Tony Blai...</td>\n",
              "      <td>politics</td>\n",
              "    </tr>\n",
              "  </tbody>\n",
              "</table>\n",
              "</div>"
            ],
            "text/plain": [
              "      Unnamed: 0                                               news      type\n",
              "384          384  Huge rush for Jet Airways shares\\n \\n Indian a...  business\n",
              "1983        1983  TV's future down the phone line\\n \\n Internet ...      tech\n",
              "985          985  Cabinet anger at Brown cash raid\\n \\n Minister...  politics\n",
              "1386        1386  Campbell rescues Arsenal\\n \\n Sol Campbell pro...     sport\n",
              "1294        1294  Blair 'up for it' ahead of poll\\n \\n Tony Blai...  politics"
            ]
          },
          "execution_count": 3,
          "metadata": {},
          "output_type": "execute_result"
        }
      ]
    },
    {
      "cell_type": "code",
      "metadata": {
        "id": "cb4e1f34"
      },
      "source": [
        "data['category_id'] = data['type'].factorize()[0]"
      ],
      "id": "cb4e1f34",
      "execution_count": null,
      "outputs": []
    },
    {
      "cell_type": "code",
      "metadata": {
        "id": "787c2d00"
      },
      "source": [
        "colslist = ['Index', 'news', 'type', 'category_id']\n",
        "data.columns = colslist"
      ],
      "id": "787c2d00",
      "execution_count": null,
      "outputs": []
    },
    {
      "cell_type": "code",
      "metadata": {
        "id": "ebbba992"
      },
      "source": [
        "#data.tail()"
      ],
      "id": "ebbba992",
      "execution_count": null,
      "outputs": []
    },
    {
      "cell_type": "code",
      "metadata": {
        "id": "1730c773",
        "outputId": "58cf612c-1596-42b7-b762-e9c513a850db"
      },
      "source": [
        "data.groupby('type').Index.count().plot.bar(ylim=0)"
      ],
      "id": "1730c773",
      "execution_count": null,
      "outputs": [
        {
          "data": {
            "text/plain": [
              "<AxesSubplot:xlabel='type'>"
            ]
          },
          "execution_count": 7,
          "metadata": {},
          "output_type": "execute_result"
        },
        {
          "data": {
            "image/png": "[encoded data removed]",
            "text/plain": [
              "<Figure size 432x288 with 1 Axes>"
            ]
          },
          "metadata": {
            "needs_background": "light"
          },
          "output_type": "display_data"
        }
      ]
    },
    {
      "cell_type": "markdown",
      "metadata": {
        "id": "1dd26638"
      },
      "source": [
        "# Bassic Preprocessing"
      ],
      "id": "1dd26638"
    },
    {
      "cell_type": "code",
      "metadata": {
        "id": "89edd1e4",
        "outputId": "910cc9b4-0abe-4dfa-8aa6-a5b397d4f299"
      },
      "source": [
        "import nltk\n",
        "nltk.download('stopwords')\n",
        "from nltk.corpus import stopwords\n",
        "stopwords=stopwords.words('english')"
      ],
      "id": "89edd1e4",
      "execution_count": null,
      "outputs": [
        {
          "name": "stderr",
          "output_type": "stream",
          "text": [
            "[nltk_data] Downloading package stopwords to\n",
            "[nltk_data]     /home/ec2-user/nltk_data...\n",
            "[nltk_data]   Unzipping corpora/stopwords.zip.\n"
          ]
        }
      ]
    },
    {
      "cell_type": "code",
      "metadata": {
        "id": "d940dd0f"
      },
      "source": [
        "data['news_without_stopwords'] = data['news'].apply(lambda x: ' '.join([word for word in x.split() if word not in (stopwords)]))"
      ],
      "id": "d940dd0f",
      "execution_count": null,
      "outputs": []
    },
    {
      "cell_type": "code",
      "metadata": {
        "id": "34386ada",
        "outputId": "8f3f6414-d010-447e-f2c2-8c47276d9f16"
      },
      "source": [
        "print(len(data['news_without_stopwords'][0]))"
      ],
      "id": "34386ada",
      "execution_count": null,
      "outputs": [
        {
          "name": "stdout",
          "output_type": "stream",
          "text": [
            "681\n"
          ]
        }
      ]
    },
    {
      "cell_type": "code",
      "metadata": {
        "id": "4491b34f",
        "outputId": "f1d64d20-c5a2-4478-d6a9-ffd0a1a24bf6"
      },
      "source": [
        "print(data['news_without_stopwords'])"
      ],
      "id": "4491b34f",
      "execution_count": null,
      "outputs": [
        {
          "name": "stdout",
          "output_type": "stream",
          "text": [
            "0       Qatar Shell $6bn gas deal Shell signed $6bn (£...\n",
            "1       Slowdown hits US factory growth US industrial ...\n",
            "2       Call overhaul UK state pension The UK pension ...\n",
            "3       Bush outline 'toughest' budget President Bush ...\n",
            "4       Winter freeze keeps oil $50 Oil prices carried...\n",
            "                              ...                        \n",
            "2220    Mobile music challenges 'iPod age' Nokia Micro...\n",
            "2221    Broadband takes TV viewing The number European...\n",
            "2222    Piero gives rugby perspective BBC Sport unveil...\n",
            "2223    Moving mobile improves golf swing A mobile pho...\n",
            "2224    Spam e-mails tempt net shoppers Computer users...\n",
            "Name: news_without_stopwords, Length: 2225, dtype: object\n"
          ]
        }
      ]
    },
    {
      "cell_type": "markdown",
      "metadata": {
        "id": "0add9441"
      },
      "source": [
        "## Porter Stemming"
      ],
      "id": "0add9441"
    },
    {
      "cell_type": "code",
      "metadata": {
        "id": "59e6f5cb"
      },
      "source": [
        "ps = PorterStemmer()"
      ],
      "id": "59e6f5cb",
      "execution_count": null,
      "outputs": []
    },
    {
      "cell_type": "code",
      "metadata": {
        "id": "973684e3"
      },
      "source": [
        "data['news_porter_stemmed'] = data['news_without_stopwords'].apply(lambda x: ' '.join([ps.stem(word) for word in x.split()]))"
      ],
      "id": "973684e3",
      "execution_count": null,
      "outputs": []
    },
    {
      "cell_type": "code",
      "metadata": {
        "id": "cabc9224",
        "outputId": "a9423bb8-2aa8-40dc-8268-467382e6a925"
      },
      "source": [
        "print(data['news_without_stopwords'][0])"
      ],
      "id": "cabc9224",
      "execution_count": null,
      "outputs": [
        {
          "name": "stdout",
          "output_type": "stream",
          "text": [
            "Qatar Shell $6bn gas deal Shell signed $6bn (£3.12bn) deal Middle Eastern sheikhdom Qatar supply liquid natural gas (LNG) North America Europe. The UK-Dutch group 30% project, Qatar's state oil firm owning rest. The agreement latest string deals reached Qatar, trying make regional leader natural gas. US oil giant ExxonMobil signed $12.8bn deal earlier Sunday. France's Total expected join ExxonMobil scheme, dubbed Qatargas-2, Monday, taking 5 million tonnes LNG year. ExxonMobil taking 15 million tonnes year 25 years end 2007 deal. Shell's agreement, name Qatargas-4, foresees building new facilities handle 1.4 billion cubic feet gas, 7.8 million tonnes LNG year 2011 onwards.\n"
          ]
        }
      ]
    },
    {
      "cell_type": "code",
      "metadata": {
        "id": "7a18f739",
        "outputId": "fdf8db15-ddd3-420a-bad6-8e393f268f54"
      },
      "source": [
        "print(data['news_porter_stemmed'][0])"
      ],
      "id": "7a18f739",
      "execution_count": null,
      "outputs": [
        {
          "name": "stdout",
          "output_type": "stream",
          "text": [
            "qatar shell $6bn ga deal shell sign $6bn (£3.12bn) deal middl eastern sheikhdom qatar suppli liquid natur ga (lng) north america europe. the uk-dutch group 30% project, qatar' state oil firm own rest. the agreement latest string deal reach qatar, tri make region leader natur gas. US oil giant exxonmobil sign $12.8bn deal earlier sunday. france' total expect join exxonmobil scheme, dub qatargas-2, monday, take 5 million tonn lng year. exxonmobil take 15 million tonn year 25 year end 2007 deal. shell' agreement, name qatargas-4, forese build new facil handl 1.4 billion cubic feet gas, 7.8 million tonn lng year 2011 onwards.\n"
          ]
        }
      ]
    },
    {
      "cell_type": "markdown",
      "metadata": {
        "id": "301e6356"
      },
      "source": [
        "## Converting TO LowerCase"
      ],
      "id": "301e6356"
    },
    {
      "cell_type": "code",
      "metadata": {
        "id": "51d8fe59"
      },
      "source": [
        "data['news_porter_stemmed'] = data['news_porter_stemmed'].apply(lambda x: ' '.join(x.lower() for x in x.split()))"
      ],
      "id": "51d8fe59",
      "execution_count": null,
      "outputs": []
    },
    {
      "cell_type": "code",
      "metadata": {
        "id": "25f1db72",
        "outputId": "edf038c1-07ab-42b4-b86e-8a3d47221923"
      },
      "source": [
        "print(data['news_porter_stemmed'][0])"
      ],
      "id": "25f1db72",
      "execution_count": null,
      "outputs": [
        {
          "name": "stdout",
          "output_type": "stream",
          "text": [
            "qatar shell $6bn ga deal shell sign $6bn (£3.12bn) deal middl eastern sheikhdom qatar suppli liquid natur ga (lng) north america europe. the uk-dutch group 30% project, qatar' state oil firm own rest. the agreement latest string deal reach qatar, tri make region leader natur gas. us oil giant exxonmobil sign $12.8bn deal earlier sunday. france' total expect join exxonmobil scheme, dub qatargas-2, monday, take 5 million tonn lng year. exxonmobil take 15 million tonn year 25 year end 2007 deal. shell' agreement, name qatargas-4, forese build new facil handl 1.4 billion cubic feet gas, 7.8 million tonn lng year 2011 onwards.\n"
          ]
        }
      ]
    },
    {
      "cell_type": "markdown",
      "metadata": {
        "id": "b17a4471"
      },
      "source": [
        "## Removing Punctuation"
      ],
      "id": "b17a4471"
    },
    {
      "cell_type": "code",
      "metadata": {
        "id": "912fde0f"
      },
      "source": [
        "data['news_porter_stemmed'] = data['news_porter_stemmed'].str.replace('[^\\w\\s]','')"
      ],
      "id": "912fde0f",
      "execution_count": null,
      "outputs": []
    },
    {
      "cell_type": "code",
      "metadata": {
        "id": "cff039aa",
        "outputId": "3d5832bd-2636-4e79-d6ad-72e39d5445c4"
      },
      "source": [
        "data['news_porter_stemmed'][0]"
      ],
      "id": "cff039aa",
      "execution_count": null,
      "outputs": [
        {
          "data": {
            "text/plain": [
              "'qatar shell 6bn ga deal shell sign 6bn 312bn deal middl eastern sheikhdom qatar suppli liquid natur ga lng north america europe the ukdutch group 30 project qatar state oil firm own rest the agreement latest string deal reach qatar tri make region leader natur gas us oil giant exxonmobil sign 128bn deal earlier sunday france total expect join exxonmobil scheme dub qatargas2 monday take 5 million tonn lng year exxonmobil take 15 million tonn year 25 year end 2007 deal shell agreement name qatargas4 forese build new facil handl 14 billion cubic feet gas 78 million tonn lng year 2011 onwards'"
            ]
          },
          "execution_count": 19,
          "metadata": {},
          "output_type": "execute_result"
        }
      ]
    },
    {
      "cell_type": "markdown",
      "metadata": {
        "id": "a3c63c93"
      },
      "source": [
        "## Low frequency term filtering (count < 3)"
      ],
      "id": "a3c63c93"
    },
    {
      "cell_type": "code",
      "metadata": {
        "id": "72225e07"
      },
      "source": [
        "freq = pd.Series(' '.join(data['news_porter_stemmed']).split()).value_counts()"
      ],
      "id": "72225e07",
      "execution_count": null,
      "outputs": []
    },
    {
      "cell_type": "code",
      "metadata": {
        "id": "37806d25",
        "outputId": "93f554c5-94aa-4562-d3ed-07221bc77596"
      },
      "source": [
        "freq.head()"
      ],
      "id": "37806d25",
      "execution_count": null,
      "outputs": [
        {
          "data": {
            "text/plain": [
              "the     8121\n",
              "said    7253\n",
              "i       3263\n",
              "mr      3045\n",
              "it      2701\n",
              "dtype: int64"
            ]
          },
          "execution_count": 21,
          "metadata": {},
          "output_type": "execute_result"
        }
      ]
    },
    {
      "cell_type": "code",
      "metadata": {
        "id": "f89d8203",
        "outputId": "12a23a5f-e428-4e2d-a434-9a7b78d63d15"
      },
      "source": [
        "freq2 = freq[freq <= 3]\n",
        "freq2"
      ],
      "id": "f89d8203",
      "execution_count": null,
      "outputs": [
        {
          "data": {
            "text/plain": [
              "103m           3\n",
              "backley        3\n",
              "shailendra     3\n",
              "rev            3\n",
              "pacific        3\n",
              "              ..\n",
              "convene        1\n",
              "highbrow       1\n",
              "participate    1\n",
              "domicil        1\n",
              "limbs          1\n",
              "Length: 19554, dtype: int64"
            ]
          },
          "execution_count": 22,
          "metadata": {},
          "output_type": "execute_result"
        }
      ]
    },
    {
      "cell_type": "code",
      "metadata": {
        "id": "64b98162",
        "outputId": "eb96e2d9-1a75-44d8-813c-dd21483616ac"
      },
      "source": [
        "\n",
        "freq3 = list(freq2.index.values)\n",
        "freq3"
      ],
      "id": "64b98162",
      "execution_count": null,
      "outputs": [
        {
          "data": {
            "text/plain": [
              "['103m',\n",
              " 'backley',\n",
              " 'shailendra',\n",
              " 'rev',\n",
              " 'pacific',\n",
              " 'armour',\n",
              " 'courtney',\n",
              " '135bn',\n",
              " '630',\n",
              " '1943',\n",
              " 'hitter',\n",
              " 'interpol',\n",
              " 'cancellations',\n",
              " 'tackled',\n",
              " 'bolt',\n",
              " 'deregul',\n",
              " 'barton',\n",
              " 'wikid',\n",
              " 'baez',\n",
              " 'cub',\n",
              " 'lyttelton',\n",
              " 'malt',\n",
              " '105',\n",
              " 'sixyearold',\n",
              " 'cfca',\n",
              " 'watchdogs',\n",
              " 'vyvyan',\n",
              " 'brilliantly',\n",
              " 'horn',\n",
              " 'questionnair',\n",
              " 'policyholders',\n",
              " 'inept',\n",
              " 'chorlton',\n",
              " 'kombou',\n",
              " 'sore',\n",
              " 'pipa',\n",
              " '900',\n",
              " 'crank',\n",
              " 'buytolet',\n",
              " 'captiv',\n",
              " 'watford',\n",
              " '1962',\n",
              " 'facility',\n",
              " 'learner',\n",
              " 'gleneagl',\n",
              " 'alun',\n",
              " 'crook',\n",
              " 'appliances',\n",
              " 'fully',\n",
              " 'finale',\n",
              " 'ashburton',\n",
              " 'brag',\n",
              " 'sofa',\n",
              " '32000',\n",
              " 'redundancies',\n",
              " 'goalscor',\n",
              " 'idealist',\n",
              " '55000',\n",
              " 'rear',\n",
              " 'partnerships',\n",
              " 'hoadley',\n",
              " 'performed',\n",
              " 'malik',\n",
              " 'bulb',\n",
              " 'thirdquart',\n",
              " 'reneg',\n",
              " 'foe',\n",
              " 'selfexpress',\n",
              " 'pbs',\n",
              " 'shaftesburi',\n",
              " 'ni',\n",
              " 'transmission',\n",
              " 'watersh',\n",
              " 'mckendri',\n",
              " 'gianni',\n",
              " 'umpir',\n",
              " 'financing',\n",
              " 'hawkin',\n",
              " 'unherald',\n",
              " 'jordanian',\n",
              " 'giveaways',\n",
              " 'leadplex',\n",
              " 'cullum',\n",
              " 'sprem',\n",
              " 'lanarkshir',\n",
              " 'ranges',\n",
              " 'erewash',\n",
              " 'cruises',\n",
              " 'fading',\n",
              " 'lesquiv',\n",
              " 'andrews',\n",
              " 'homeown',\n",
              " 'developments',\n",
              " 'g20',\n",
              " 'shortly',\n",
              " 'nop',\n",
              " 'globalis',\n",
              " 'synthesis',\n",
              " 'intellect',\n",
              " 'indigen',\n",
              " 'oppress',\n",
              " 'tulu',\n",
              " 'incentive',\n",
              " 'fide',\n",
              " 'supermodel',\n",
              " 'applicants',\n",
              " 'catchi',\n",
              " 'calling',\n",
              " 'murders',\n",
              " 'somebody',\n",
              " 'apprais',\n",
              " 'yepp',\n",
              " 'courier',\n",
              " 'suppress',\n",
              " '833',\n",
              " 'allianz',\n",
              " 'cctv',\n",
              " 'distin',\n",
              " 'opening',\n",
              " '213m',\n",
              " '700m',\n",
              " '1938',\n",
              " '77000',\n",
              " 'dahl',\n",
              " 'generos',\n",
              " 'postelect',\n",
              " 'alexandria',\n",
              " 'numeraci',\n",
              " 'waiter',\n",
              " 'jarek',\n",
              " 'slaves',\n",
              " 'owed',\n",
              " 'degrees',\n",
              " 'peas',\n",
              " 'twins',\n",
              " 'aus',\n",
              " 'mikko',\n",
              " 'embarrassment',\n",
              " 'kensington',\n",
              " 'bundesbank',\n",
              " 'railways',\n",
              " 'boards',\n",
              " 'castro',\n",
              " 'vatican',\n",
              " 'mccafferti',\n",
              " 'garner',\n",
              " 'torrent',\n",
              " 'juggl',\n",
              " 'roses',\n",
              " 'essentials',\n",
              " 'requirement',\n",
              " 'withheld',\n",
              " 'rue',\n",
              " 'lifethreaten',\n",
              " 'roadmap',\n",
              " 'translated',\n",
              " 'honesti',\n",
              " 'macedonia',\n",
              " 'connector',\n",
              " 'nebraska',\n",
              " 'emotions',\n",
              " 'marketed',\n",
              " 'countered',\n",
              " 'omar',\n",
              " 'boynton',\n",
              " 'woes',\n",
              " 'zenden',\n",
              " 'marry',\n",
              " 'goalless',\n",
              " 'lived',\n",
              " 'filled',\n",
              " 'issuer',\n",
              " 'seagram',\n",
              " 'fife',\n",
              " '7500',\n",
              " 'firewalls',\n",
              " 'ion',\n",
              " 'zelda',\n",
              " 'choreographi',\n",
              " 'physics',\n",
              " 'wsj',\n",
              " 'mcewan',\n",
              " '189',\n",
              " 'prints',\n",
              " 'toma',\n",
              " 'plp',\n",
              " 'metlife',\n",
              " '194m',\n",
              " 'scepticism',\n",
              " 'sli',\n",
              " 'outofcompetit',\n",
              " 'efficiency',\n",
              " 'psv',\n",
              " 'nontechn',\n",
              " 'charit',\n",
              " 'kenny',\n",
              " 'mfa',\n",
              " 'dubs',\n",
              " 'noncompetit',\n",
              " 'anni',\n",
              " 'sierra',\n",
              " 'torrid',\n",
              " 'ovation',\n",
              " 'rapidly',\n",
              " 'sme',\n",
              " 'episodes',\n",
              " 'exploited',\n",
              " 'fabrega',\n",
              " 'wideangl',\n",
              " 'balanced',\n",
              " 'semin',\n",
              " 'cheung',\n",
              " 'petrel',\n",
              " 'lurk',\n",
              " '427',\n",
              " 'openend',\n",
              " '136',\n",
              " 'belov',\n",
              " 'lombard',\n",
              " 'burglars',\n",
              " 'dissuad',\n",
              " 'connacht',\n",
              " 'tonga',\n",
              " 'shallow',\n",
              " 'pelous',\n",
              " 'daggers',\n",
              " 'javier',\n",
              " 'talal',\n",
              " 'cartagena',\n",
              " 'coffee',\n",
              " 'instincts',\n",
              " 'bullying',\n",
              " 'upandcom',\n",
              " 'anita',\n",
              " 'ugly',\n",
              " 'unsustainable',\n",
              " 'shalabi',\n",
              " 'asking',\n",
              " 'fernsehen',\n",
              " 'federations',\n",
              " 'overwhelming',\n",
              " 'anselmo',\n",
              " 'brokers',\n",
              " 'paraguay',\n",
              " 'upside',\n",
              " 'remotecontrol',\n",
              " 'senanayak',\n",
              " 'splitcapit',\n",
              " 'druri',\n",
              " 'pitylak',\n",
              " 'exxonmobil',\n",
              " 'llc',\n",
              " 'vocabulari',\n",
              " 'unruli',\n",
              " 'bro',\n",
              " 'onematch',\n",
              " 'overcome',\n",
              " 'inconsist',\n",
              " 'bupa',\n",
              " 'disputes',\n",
              " 'exists',\n",
              " 'bankers',\n",
              " 'diehard',\n",
              " '286',\n",
              " 'worcest',\n",
              " 'uncut',\n",
              " 'catholic',\n",
              " 'mangala',\n",
              " 'holme',\n",
              " 'chemistri',\n",
              " 'reunion',\n",
              " 'gabbidon',\n",
              " 'bottle',\n",
              " 'chabal',\n",
              " 'knowingli',\n",
              " 'jeer',\n",
              " 'scorch',\n",
              " 'jule',\n",
              " '1955',\n",
              " '530',\n",
              " 'dumpsite',\n",
              " 'essentially',\n",
              " 'compass',\n",
              " 'ahern',\n",
              " 'ancelotti',\n",
              " 'rauluni',\n",
              " 'kenyon',\n",
              " 'schizophren',\n",
              " 'projections',\n",
              " 'superman',\n",
              " 'gunshot',\n",
              " 'unreason',\n",
              " 'muscles',\n",
              " 'resumption',\n",
              " 'reichhold',\n",
              " 'gigapixel',\n",
              " 'contender',\n",
              " 'regent',\n",
              " 'unwind',\n",
              " 'victories',\n",
              " 'malfunct',\n",
              " 'lovenduski',\n",
              " 'bevan',\n",
              " 'costly',\n",
              " 'londoners',\n",
              " 'champagn',\n",
              " 'redempt',\n",
              " 'podcasters',\n",
              " 'santander',\n",
              " 'mammal',\n",
              " 'controller',\n",
              " 'gram',\n",
              " 'ceiling',\n",
              " 'os2',\n",
              " 'dracula',\n",
              " 'absolutely',\n",
              " 'theatregoers',\n",
              " 'ntt',\n",
              " 'mennear',\n",
              " 'pj',\n",
              " 'blip',\n",
              " 'ballerina',\n",
              " 'panorama',\n",
              " 'bureaucrats',\n",
              " 'vicecaptain',\n",
              " 'patience',\n",
              " 'misgiv',\n",
              " 'naamsa',\n",
              " 'harriet',\n",
              " 'depardieu',\n",
              " 'templeton',\n",
              " 'swamp',\n",
              " '3020',\n",
              " 'xhosa',\n",
              " '25year',\n",
              " 'ernest',\n",
              " 'rile',\n",
              " 'dangerous',\n",
              " 'designed',\n",
              " 'residenti',\n",
              " 'auf',\n",
              " 'pinchuk',\n",
              " 'welcome',\n",
              " 'commissions',\n",
              " 'grassroot',\n",
              " '72m',\n",
              " 'mackie',\n",
              " 'enfish',\n",
              " 'coltran',\n",
              " 'murki',\n",
              " 'varley',\n",
              " 'lorillard',\n",
              " '230bn',\n",
              " 'schubert',\n",
              " 'alternatives',\n",
              " 'goalkicking',\n",
              " 'minis',\n",
              " 'mum',\n",
              " 'archi',\n",
              " 'fairness',\n",
              " 'fluf',\n",
              " '133',\n",
              " 'creations',\n",
              " 'mondays',\n",
              " 'considerably',\n",
              " 'mayland',\n",
              " 'pixi',\n",
              " 'busiest',\n",
              " 'shiver',\n",
              " 'rightw',\n",
              " 'nationally',\n",
              " 'newham',\n",
              " 'springboard',\n",
              " 'alabama',\n",
              " 'eeoc',\n",
              " 'graft',\n",
              " 'smallpox',\n",
              " 'marshall',\n",
              " 'substance',\n",
              " 'reintroduc',\n",
              " 'dictatorship',\n",
              " 'gimmicks',\n",
              " 'extraordinarili',\n",
              " 'gavi',\n",
              " 'outings',\n",
              " 'fatboy',\n",
              " 'gentl',\n",
              " 'pipeline',\n",
              " 'feloni',\n",
              " 'shelves',\n",
              " 'mack',\n",
              " 'letters',\n",
              " 'catalina',\n",
              " 'amalgam',\n",
              " 'cybercrimin',\n",
              " 'stated',\n",
              " 'papers',\n",
              " 'economic',\n",
              " 'camilla',\n",
              " 'subsaharan',\n",
              " 'castres',\n",
              " 'craney',\n",
              " 'peck',\n",
              " 'robotiquette',\n",
              " 'liberation',\n",
              " 'rspca',\n",
              " 'imparti',\n",
              " 'spit',\n",
              " 'lyricist',\n",
              " 'maggi',\n",
              " '39m',\n",
              " 'garland',\n",
              " 'franklin',\n",
              " '104m',\n",
              " 'scorching',\n",
              " 'lousi',\n",
              " 'soderling',\n",
              " 'turin',\n",
              " 'stairs',\n",
              " 'jansen',\n",
              " 'hanov',\n",
              " 'saumarez',\n",
              " 'hitchhiker',\n",
              " 'murambadoro',\n",
              " 'hoodia',\n",
              " 'wrestl',\n",
              " 'coincidence',\n",
              " 'lavign',\n",
              " 'partizan',\n",
              " 'fatigu',\n",
              " 'recordings',\n",
              " 'mainstay',\n",
              " 'crucibl',\n",
              " 'landscape',\n",
              " 'genocid',\n",
              " 'surprisingly',\n",
              " 'ngage',\n",
              " '111',\n",
              " 'dinkier',\n",
              " 'canadabas',\n",
              " 'mathieson',\n",
              " '102m',\n",
              " 'proved',\n",
              " 'regressive',\n",
              " 'argue',\n",
              " 'atlas',\n",
              " 'angler',\n",
              " 'inferior',\n",
              " 'nude',\n",
              " 'coppola',\n",
              " 'sibl',\n",
              " 'rebuk',\n",
              " '145',\n",
              " 'bryn',\n",
              " 'goosens',\n",
              " '175bn',\n",
              " 'chaotic',\n",
              " 'carvalho',\n",
              " 'rhapsody',\n",
              " 'dvdlike',\n",
              " 'mentor',\n",
              " 'merchandise',\n",
              " 'lieuten',\n",
              " 'rk',\n",
              " 'cheshire',\n",
              " 'videos',\n",
              " 'gopinath',\n",
              " 'majorityown',\n",
              " 'disregard',\n",
              " 'determined',\n",
              " 'sibierski',\n",
              " 'anathema',\n",
              " 'pedestrian',\n",
              " 'conversations',\n",
              " 'emperor',\n",
              " '650m',\n",
              " 'living',\n",
              " 'biography',\n",
              " 'southwel',\n",
              " 'kerry',\n",
              " 'supervisori',\n",
              " 'camcorders',\n",
              " 'breadth',\n",
              " 'octobertodecemb',\n",
              " 'charttrack',\n",
              " 'represents',\n",
              " 'distrust',\n",
              " 'havenot',\n",
              " 'hailstorm',\n",
              " 'ponder',\n",
              " 'estel',\n",
              " 'cheney',\n",
              " 'ingam',\n",
              " 'tariffs',\n",
              " 'presents',\n",
              " 'easygroup',\n",
              " 'festen',\n",
              " 'unicef',\n",
              " 'mcgeady',\n",
              " 'morchio',\n",
              " 'brigade',\n",
              " 'discredit',\n",
              " 'certainly',\n",
              " 'misconduct',\n",
              " 'judgel',\n",
              " 'candidaci',\n",
              " 'squabbling',\n",
              " 'fragmented',\n",
              " 'shockwav',\n",
              " 'dispel',\n",
              " 'slang',\n",
              " 'minigam',\n",
              " 'chalon',\n",
              " 'shun',\n",
              " 'selection',\n",
              " 'clearview',\n",
              " 'tiein',\n",
              " 'fundamental',\n",
              " 'jacksonville',\n",
              " 'eyeopener',\n",
              " 'tanks',\n",
              " 'tamper',\n",
              " 'powergen',\n",
              " 'claycourt',\n",
              " 'highestrank',\n",
              " 'graphicsintens',\n",
              " 'reconstruction',\n",
              " 'disun',\n",
              " 'jaw',\n",
              " 'squander',\n",
              " 'rocki',\n",
              " 'perrier',\n",
              " 'eva',\n",
              " '680',\n",
              " 'bubble',\n",
              " 'priorities',\n",
              " 'antisemitism',\n",
              " '80gb',\n",
              " 'goodridg',\n",
              " 'societies',\n",
              " 'angle',\n",
              " 'defac',\n",
              " 'niscc',\n",
              " 'claudia',\n",
              " 'chemicals',\n",
              " 'eoc',\n",
              " 'unwelcom',\n",
              " '599',\n",
              " 'honiss',\n",
              " 'martina',\n",
              " 'declining',\n",
              " 'tapes',\n",
              " 'skeen',\n",
              " 'walkington',\n",
              " 'specials',\n",
              " 'ration',\n",
              " 'cps',\n",
              " 'gondri',\n",
              " 'versa',\n",
              " 'diary',\n",
              " 'lament',\n",
              " 'detected',\n",
              " '54m',\n",
              " 'shylock',\n",
              " 'cling',\n",
              " 'roubl',\n",
              " 'copernic',\n",
              " 'crossparti',\n",
              " 'annadal',\n",
              " 'symbolis',\n",
              " 'upton',\n",
              " 'battalion',\n",
              " '134',\n",
              " 'hearten',\n",
              " 'upstair',\n",
              " '532m',\n",
              " 'overturned',\n",
              " 'heseltin',\n",
              " 'apparatu',\n",
              " 'obikwelu',\n",
              " 'ravag',\n",
              " 'outcri',\n",
              " 'hypponen',\n",
              " 'latch',\n",
              " 'jacquelin',\n",
              " 'jupiter',\n",
              " 'ultima',\n",
              " 'searching',\n",
              " 'prophet',\n",
              " 'ide',\n",
              " 'satur',\n",
              " 'based',\n",
              " 'fled',\n",
              " 'englishlanguag',\n",
              " 'jitter',\n",
              " 'em',\n",
              " 'persecution',\n",
              " 'hepat',\n",
              " 'anglia',\n",
              " 'cec',\n",
              " 'neglig',\n",
              " 'promise',\n",
              " 'bottlenecks',\n",
              " 'duffy',\n",
              " 'avi',\n",
              " 'profess',\n",
              " 'sacrific',\n",
              " 'circulation',\n",
              " 'dawn',\n",
              " 'suddenly',\n",
              " 'aefa',\n",
              " 'asant',\n",
              " 'sussex',\n",
              " 'feleppa',\n",
              " 'cells',\n",
              " 'raphael',\n",
              " 'texasbas',\n",
              " 'contriv',\n",
              " 'defector',\n",
              " 'zombie',\n",
              " 'roster',\n",
              " 'retract',\n",
              " 'rendit',\n",
              " 'westlife',\n",
              " '66m',\n",
              " 'petrova',\n",
              " 'workabl',\n",
              " 'intended',\n",
              " 'finished',\n",
              " 'fleming',\n",
              " 'jake',\n",
              " 'jurors',\n",
              " 'fring',\n",
              " 'figaro',\n",
              " 'disench',\n",
              " 'manslaught',\n",
              " 'tupac',\n",
              " 'voucher',\n",
              " 'singlehandedli',\n",
              " 'constituency',\n",
              " 'stagnant',\n",
              " 'requests',\n",
              " 'bosses',\n",
              " 'margins',\n",
              " 'sedgefield',\n",
              " 'thorpe',\n",
              " 'maldives',\n",
              " 'scour',\n",
              " 'riverside',\n",
              " 'precedent',\n",
              " 'quiz',\n",
              " 'dynamite',\n",
              " 'triniti',\n",
              " 'clearest',\n",
              " 'seventies',\n",
              " 'kinross',\n",
              " 'coincidentally',\n",
              " 'agm',\n",
              " 'coming',\n",
              " 'unsuit',\n",
              " 'drinks',\n",
              " 'artgarden',\n",
              " 'procedures',\n",
              " 'disposal',\n",
              " 'cbo',\n",
              " '39yearold',\n",
              " 'sailor',\n",
              " 'byrds',\n",
              " '0800',\n",
              " 'mythology',\n",
              " 'macdonel',\n",
              " 'unveiled',\n",
              " '168',\n",
              " 'connected',\n",
              " 'interamerican',\n",
              " 'charities',\n",
              " 'dour',\n",
              " 'diagnosi',\n",
              " 'firework',\n",
              " 'ballymena',\n",
              " 'aero',\n",
              " 'tired',\n",
              " '109m',\n",
              " 'kgb',\n",
              " 'heads',\n",
              " 'tanker',\n",
              " 'solider',\n",
              " 'reelection',\n",
              " 'publicist',\n",
              " 'novartis',\n",
              " 'glitch',\n",
              " 'stearn',\n",
              " 'hindu',\n",
              " 'communiqu233',\n",
              " 'distress',\n",
              " 'mud',\n",
              " 'oclock',\n",
              " 'freeze',\n",
              " 'postings',\n",
              " 'thinner',\n",
              " 'hobb',\n",
              " 'hein',\n",
              " '6500',\n",
              " '8am',\n",
              " 'fete',\n",
              " 'conferencing',\n",
              " 'elgindy',\n",
              " 'tyler',\n",
              " 'satisfied',\n",
              " 'commitment',\n",
              " '289',\n",
              " 'borough',\n",
              " 'roads',\n",
              " 'headingley',\n",
              " 'mcconnell',\n",
              " 'sleek',\n",
              " 'bedwellti',\n",
              " '84th',\n",
              " 'unbeliev',\n",
              " 'wildcard',\n",
              " 'commercially',\n",
              " 'nolan',\n",
              " '50bn',\n",
              " 'broadli',\n",
              " 'feroc',\n",
              " 'jeanfrancoi',\n",
              " '205',\n",
              " 'returns',\n",
              " 'missi',\n",
              " 'souls',\n",
              " 'observed',\n",
              " 'exorcist',\n",
              " 'mamma',\n",
              " '280',\n",
              " 'primer',\n",
              " '1830',\n",
              " '155m',\n",
              " 'approvals',\n",
              " 'savage',\n",
              " 'dose',\n",
              " '125000',\n",
              " 'pb',\n",
              " 'acquitted',\n",
              " 'kirsten',\n",
              " 'imperson',\n",
              " 'reliance',\n",
              " 'redress',\n",
              " 'cherkaski',\n",
              " 'futurologist',\n",
              " 'namibia',\n",
              " 'semifict',\n",
              " 'shortlived',\n",
              " 'antidepress',\n",
              " 'gains',\n",
              " 'hypertag',\n",
              " 'grove',\n",
              " 'mcallister',\n",
              " 'costin',\n",
              " 'excessive',\n",
              " 'historian',\n",
              " 'ugli',\n",
              " 'shakespeare',\n",
              " 'cutout',\n",
              " 'rerelease',\n",
              " 'halfback',\n",
              " 'nomura',\n",
              " 'autobiographi',\n",
              " 'moorcroft',\n",
              " 'destini',\n",
              " 'harlin',\n",
              " 'rebecca',\n",
              " 'stockpile',\n",
              " 'nurseri',\n",
              " 'daddy',\n",
              " 'fairmont',\n",
              " 'bids',\n",
              " '52bn',\n",
              " 'ador',\n",
              " 'deft',\n",
              " 'casualties',\n",
              " 'mute',\n",
              " 'genet',\n",
              " 'afflict',\n",
              " 'translation',\n",
              " 'administrator',\n",
              " 'sympathis',\n",
              " 'muslims',\n",
              " 'hacan',\n",
              " 'fundamentalism',\n",
              " 'vinyl',\n",
              " 'indians',\n",
              " 'angloamerican',\n",
              " 'footage',\n",
              " 'shortages',\n",
              " 'earl',\n",
              " 'onetel',\n",
              " 'baywatch',\n",
              " 'blush',\n",
              " 'adolesc',\n",
              " 'autograph',\n",
              " 'pleasant',\n",
              " 'sublim',\n",
              " 'clump',\n",
              " 'availability',\n",
              " 'coma',\n",
              " 'henchoz',\n",
              " 'mueller',\n",
              " '1963',\n",
              " 'obsession',\n",
              " 'pearl',\n",
              " 'deepen',\n",
              " 'snif',\n",
              " 'fizz',\n",
              " 'betting',\n",
              " 'petrie',\n",
              " '300bn',\n",
              " 'whom',\n",
              " 'liabilities',\n",
              " 'rigoglioso',\n",
              " 'forgiv',\n",
              " 'clamshel',\n",
              " 'cowboy',\n",
              " 'dancehal',\n",
              " 'icstis',\n",
              " 'empower',\n",
              " 'samantha',\n",
              " 'vet',\n",
              " 'outsold',\n",
              " 'alberto',\n",
              " 'calibre',\n",
              " 'register',\n",
              " 'fiasco',\n",
              " 'severn',\n",
              " 'housemates',\n",
              " 'bones',\n",
              " 'allround',\n",
              " 'heritage',\n",
              " 'dominica',\n",
              " 'humans',\n",
              " 'oatley',\n",
              " 'helpful',\n",
              " 'scrushi',\n",
              " 'vintner',\n",
              " 'entranc',\n",
              " 'jog',\n",
              " 'phonein',\n",
              " 'innocence',\n",
              " 'waters',\n",
              " '36yearold',\n",
              " 'sonybmg',\n",
              " 'monteith',\n",
              " 'selling',\n",
              " 'cardnotpres',\n",
              " 'accidental',\n",
              " 'deck',\n",
              " 'britons',\n",
              " 'amd',\n",
              " 'cohes',\n",
              " 'zinc',\n",
              " 'someday',\n",
              " 'identities',\n",
              " 'sonyericsson',\n",
              " '6km',\n",
              " 'dealings',\n",
              " 'thie',\n",
              " 'heavyweight',\n",
              " '125bn',\n",
              " 'bracket',\n",
              " '6ft',\n",
              " 'hellen',\n",
              " 'isaiah',\n",
              " 'migration',\n",
              " 'horrif',\n",
              " 'disappearance',\n",
              " 'infecti',\n",
              " 'tuffy',\n",
              " 'leahy',\n",
              " 'choke',\n",
              " 'sanchez',\n",
              " '43m',\n",
              " '18rate',\n",
              " 'gratuit',\n",
              " 'conceiv',\n",
              " 'secondstr',\n",
              " 'motormouth',\n",
              " 'jagran',\n",
              " 'silent',\n",
              " 'hectic',\n",
              " 'clichy',\n",
              " 'hapless',\n",
              " 'reverend',\n",
              " '41m',\n",
              " 'mystifi',\n",
              " 'ah',\n",
              " 'makofo',\n",
              " 'alcatel',\n",
              " 'eject',\n",
              " '450',\n",
              " 'replies',\n",
              " 'outside',\n",
              " 'processing',\n",
              " 'jpmorgan',\n",
              " 'lyle',\n",
              " 'hogwart',\n",
              " 'elite',\n",
              " 'manoeuvre',\n",
              " 'theodor',\n",
              " 'impressions',\n",
              " 'voices',\n",
              " 'nonresid',\n",
              " 'lima',\n",
              " 'norton',\n",
              " 'passports',\n",
              " 'horrified',\n",
              " 'vicki',\n",
              " 'safari',\n",
              " 'talisman',\n",
              " 'cfd',\n",
              " 'rankin',\n",
              " 'widely',\n",
              " 'trained',\n",
              " 'undoubt',\n",
              " 'delays',\n",
              " 'techfest',\n",
              " 'endtoend',\n",
              " 'poetri',\n",
              " '59m',\n",
              " 'mcdonalds',\n",
              " 'shevardnadz',\n",
              " 'brunini',\n",
              " 'touchyfeely',\n",
              " 'fork',\n",
              " 'pentathlon',\n",
              " 'complacent',\n",
              " 'gael',\n",
              " 'tweedbank',\n",
              " '2100',\n",
              " 'stakehold',\n",
              " 'quashi',\n",
              " 'gimm',\n",
              " 'whiski',\n",
              " 'mortal',\n",
              " 'steadfastli',\n",
              " 'minnow',\n",
              " 'barney',\n",
              " 'zambian',\n",
              " 'pompeii',\n",
              " 'messi',\n",
              " 'shocked',\n",
              " 'assaulted',\n",
              " 'samaria',\n",
              " 'abraham',\n",
              " 'revert',\n",
              " 'garcialopez',\n",
              " 'gu',\n",
              " 'd12',\n",
              " 'il',\n",
              " 'appleton',\n",
              " '49m',\n",
              " 'blades',\n",
              " '18000',\n",
              " 'victorian',\n",
              " 'satisfaction',\n",
              " 'stormi',\n",
              " 'idolstyl',\n",
              " '180000',\n",
              " '1600',\n",
              " '565m',\n",
              " 'capric',\n",
              " 'eyebrow',\n",
              " 'winndixie',\n",
              " 'cowritten',\n",
              " 'ellison',\n",
              " 'eagerli',\n",
              " 'materialised',\n",
              " 'hensel',\n",
              " 'harman',\n",
              " 'hines',\n",
              " 'mutini',\n",
              " 'ageism',\n",
              " 'codes',\n",
              " 'miracl',\n",
              " 'osborn',\n",
              " 'apprehens',\n",
              " 'warming',\n",
              " 'wakeup',\n",
              " 'boo',\n",
              " 'copenhagen',\n",
              " 'mccarthy',\n",
              " 'sakhalin',\n",
              " 'meibion',\n",
              " 'license',\n",
              " 'suzuki',\n",
              " 'empty',\n",
              " 'opik',\n",
              " 'eido',\n",
              " 'hord',\n",
              " 'wellplac',\n",
              " 'riversid',\n",
              " 'maran',\n",
              " ...]"
            ]
          },
          "execution_count": 23,
          "metadata": {},
          "output_type": "execute_result"
        }
      ]
    },
    {
      "cell_type": "code",
      "metadata": {
        "id": "eee0d14b"
      },
      "source": [
        "data['news_porter_stemmed'] = data['news_porter_stemmed'].apply(lambda x: ' '.join([word for word in x.split() if word not in (freq3)]))\n"
      ],
      "id": "eee0d14b",
      "execution_count": null,
      "outputs": []
    },
    {
      "cell_type": "code",
      "metadata": {
        "id": "ff9d2743"
      },
      "source": [
        "data = data[['Index', 'type', 'category_id', 'news_porter_stemmed']]"
      ],
      "id": "ff9d2743",
      "execution_count": null,
      "outputs": []
    },
    {
      "cell_type": "code",
      "metadata": {
        "id": "68baf369"
      },
      "source": [
        "from sklearn.feature_extraction.text import TfidfVectorizer\n",
        "\n",
        "tfidf = TfidfVectorizer(sublinear_tf=True, min_df=5, norm='l2', encoding='latin-1', ngram_range=(1, 2))"
      ],
      "id": "68baf369",
      "execution_count": null,
      "outputs": []
    },
    {
      "cell_type": "code",
      "metadata": {
        "id": "a6642916",
        "outputId": "d64297ae-cfca-4f78-ccac-f2b953ebbaf3"
      },
      "source": [
        "features = tfidf.fit_transform(data.news_porter_stemmed).toarray()\n",
        "labels = data.category_id\n",
        "features.shape\n",
        "features"
      ],
      "id": "a6642916",
      "execution_count": null,
      "outputs": [
        {
          "data": {
            "text/plain": [
              "array([[0., 0., 0., ..., 0., 0., 0.],\n",
              "       [0., 0., 0., ..., 0., 0., 0.],\n",
              "       [0., 0., 0., ..., 0., 0., 0.],\n",
              "       ...,\n",
              "       [0., 0., 0., ..., 0., 0., 0.],\n",
              "       [0., 0., 0., ..., 0., 0., 0.],\n",
              "       [0., 0., 0., ..., 0., 0., 0.]])"
            ]
          },
          "execution_count": 27,
          "metadata": {},
          "output_type": "execute_result"
        }
      ]
    },
    {
      "cell_type": "code",
      "metadata": {
        "id": "c560f96d"
      },
      "source": [
        "data.columns = ['Index', 'newstype', 'category_id', 'news_porter_stemmed']"
      ],
      "id": "c560f96d",
      "execution_count": null,
      "outputs": []
    },
    {
      "cell_type": "code",
      "metadata": {
        "id": "84feba61"
      },
      "source": [
        "category_id_df = data[['newstype', 'category_id']].drop_duplicates().sort_values('category_id')\n",
        "category_to_id = dict(category_id_df.values)\n",
        "id_to_category = dict(category_id_df[['category_id', 'newstype']].values)"
      ],
      "id": "84feba61",
      "execution_count": null,
      "outputs": []
    },
    {
      "cell_type": "code",
      "metadata": {
        "id": "7a8cdfe7",
        "outputId": "1bcf7bcd-337d-439d-d99d-bfcd2d2aa134"
      },
      "source": [
        "id_to_category"
      ],
      "id": "7a8cdfe7",
      "execution_count": null,
      "outputs": [
        {
          "data": {
            "text/plain": [
              "{0: 'business', 1: 'entertainment', 2: 'politics', 3: 'sport', 4: 'tech'}"
            ]
          },
          "execution_count": 30,
          "metadata": {},
          "output_type": "execute_result"
        }
      ]
    },
    {
      "cell_type": "code",
      "metadata": {
        "id": "0c6b5dbc",
        "outputId": "9121d9bb-6d93-4b96-8d1a-befc19be9900"
      },
      "source": [
        "category_to_id"
      ],
      "id": "0c6b5dbc",
      "execution_count": null,
      "outputs": [
        {
          "data": {
            "text/plain": [
              "{'business': 0, 'entertainment': 1, 'politics': 2, 'sport': 3, 'tech': 4}"
            ]
          },
          "execution_count": 31,
          "metadata": {},
          "output_type": "execute_result"
        }
      ]
    },
    {
      "cell_type": "code",
      "metadata": {
        "id": "f0e8d434",
        "outputId": "1009e605-f6b3-4f5f-da57-54fac4a29589"
      },
      "source": [
        "category_id_df"
      ],
      "id": "f0e8d434",
      "execution_count": null,
      "outputs": [
        {
          "data": {
            "text/html": [
              "<div>\n",
              "<style scoped>\n",
              "    .dataframe tbody tr th:only-of-type {\n",
              "        vertical-align: middle;\n",
              "    }\n",
              "\n",
              "    .dataframe tbody tr th {\n",
              "        vertical-align: top;\n",
              "    }\n",
              "\n",
              "    .dataframe thead th {\n",
              "        text-align: right;\n",
              "    }\n",
              "</style>\n",
              "<table border=\"1\" class=\"dataframe\">\n",
              "  <thead>\n",
              "    <tr style=\"text-align: right;\">\n",
              "      <th></th>\n",
              "      <th>newstype</th>\n",
              "      <th>category_id</th>\n",
              "    </tr>\n",
              "  </thead>\n",
              "  <tbody>\n",
              "    <tr>\n",
              "      <th>0</th>\n",
              "      <td>business</td>\n",
              "      <td>0</td>\n",
              "    </tr>\n",
              "    <tr>\n",
              "      <th>510</th>\n",
              "      <td>entertainment</td>\n",
              "      <td>1</td>\n",
              "    </tr>\n",
              "    <tr>\n",
              "      <th>896</th>\n",
              "      <td>politics</td>\n",
              "      <td>2</td>\n",
              "    </tr>\n",
              "    <tr>\n",
              "      <th>1313</th>\n",
              "      <td>sport</td>\n",
              "      <td>3</td>\n",
              "    </tr>\n",
              "    <tr>\n",
              "      <th>1824</th>\n",
              "      <td>tech</td>\n",
              "      <td>4</td>\n",
              "    </tr>\n",
              "  </tbody>\n",
              "</table>\n",
              "</div>"
            ],
            "text/plain": [
              "           newstype  category_id\n",
              "0          business            0\n",
              "510   entertainment            1\n",
              "896        politics            2\n",
              "1313          sport            3\n",
              "1824           tech            4"
            ]
          },
          "execution_count": 32,
          "metadata": {},
          "output_type": "execute_result"
        }
      ]
    },
    {
      "cell_type": "code",
      "metadata": {
        "id": "581a6e33",
        "outputId": "932f8464-cd27-498a-e14f-6703023b55e6"
      },
      "source": [
        "from sklearn.feature_selection import chi2\n",
        "\n",
        "N = 3\n",
        "for newstype, category_id in sorted(category_to_id.items()):\n",
        "    features_chi2 = chi2(features, labels == category_id)\n",
        "    indices = np.argsort(features_chi2[0])\n",
        "    feature_names = np.array(tfidf.get_feature_names())[indices]\n",
        "    unigrams = [v for v in feature_names if len(v.split(' ')) == 1]\n",
        "    bigrams = [v for v in feature_names if len(v.split(' ')) == 2]\n",
        "    print(\"# '{}':\".format(newstype))\n",
        "    print(\"  . Most correlated unigrams:\\n       . {}\".format('\\n       . '.join(unigrams[-N:])))\n",
        "    print(\"  . Most correlated bigrams:\\n       . {}\".format('\\n       . '.join(bigrams[-N:])))"
      ],
      "id": "581a6e33",
      "execution_count": null,
      "outputs": [
        {
          "name": "stdout",
          "output_type": "stream",
          "text": [
            "# 'business':\n",
            "  . Most correlated unigrams:\n",
            "       . oil\n",
            "       . growth\n",
            "       . bank\n",
            "  . Most correlated bigrams:\n",
            "       . interest rate\n",
            "       . analyst said\n",
            "       . stock market\n",
            "# 'entertainment':\n",
            "  . Most correlated unigrams:\n",
            "       . actor\n",
            "       . star\n",
            "       . film\n",
            "  . Most correlated bigrams:\n",
            "       . best film\n",
            "       . the film\n",
            "       . box offic\n",
            "# 'politics':\n",
            "  . Most correlated unigrams:\n",
            "       . blair\n",
            "       . tori\n",
            "       . labour\n",
            "  . Most correlated bigrams:\n",
            "       . lib dem\n",
            "       . toni blair\n",
            "       . mr blair\n",
            "# 'sport':\n",
            "  . Most correlated unigrams:\n",
            "       . champion\n",
            "       . coach\n",
            "       . cup\n",
            "  . Most correlated bigrams:\n",
            "       . australian open\n",
            "       . grand slam\n",
            "       . six nation\n",
            "# 'tech':\n",
            "  . Most correlated unigrams:\n",
            "       . technolog\n",
            "       . comput\n",
            "       . user\n",
            "  . Most correlated bigrams:\n",
            "       . peopl use\n",
            "       . let peopl\n",
            "       . mobil phone\n"
          ]
        }
      ]
    },
    {
      "cell_type": "code",
      "metadata": {
        "id": "4b939326"
      },
      "source": [
        "from sklearn.manifold import TSNE\n",
        "\n",
        "# Sampling a subset of our dataset because t-SNE is computationally expensive\n",
        "SAMPLE_SIZE = int(len(features) * 0.3)\n",
        "np.random.seed(0)\n",
        "indices = np.random.choice(range(len(features)), size=SAMPLE_SIZE, replace=False)\n",
        "projected_features = TSNE(n_components=2, random_state=0).fit_transform(features[indices])\n",
        "colors = ['pink', 'green', 'midnightblue', 'orange', 'darkgrey']"
      ],
      "id": "4b939326",
      "execution_count": null,
      "outputs": []
    },
    {
      "cell_type": "code",
      "metadata": {
        "id": "b74fff16",
        "outputId": "10800584-4c77-40bd-c328-05fe8c598815"
      },
      "source": [
        "labels"
      ],
      "id": "b74fff16",
      "execution_count": null,
      "outputs": [
        {
          "data": {
            "text/plain": [
              "0       0\n",
              "1       0\n",
              "2       0\n",
              "3       0\n",
              "4       0\n",
              "       ..\n",
              "2220    4\n",
              "2221    4\n",
              "2222    4\n",
              "2223    4\n",
              "2224    4\n",
              "Name: category_id, Length: 2225, dtype: int64"
            ]
          },
          "execution_count": 35,
          "metadata": {},
          "output_type": "execute_result"
        }
      ]
    },
    {
      "cell_type": "code",
      "metadata": {
        "id": "62fd5d7c",
        "outputId": "f942ab6a-ddef-4204-db32-5bbc90c8cfd1"
      },
      "source": [
        "for category, category_id in sorted(category_to_id.items()):\n",
        "    points = projected_features[(labels[indices] == category_id).values]\n",
        "    plt.scatter(points[:, 0], points[:, 1], s=30, c=colors[category_id], label=category)\n",
        "plt.title(\"tf-idf feature vector for each article, projected on 2 dimensions.\",\n",
        "          fontdict=dict(fontsize=15))\n",
        "plt.legend()"
      ],
      "id": "62fd5d7c",
      "execution_count": null,
      "outputs": [
        {
          "data": {
            "text/plain": [
              "<matplotlib.legend.Legend at 0x7f4c746459b0>"
            ]
          },
          "execution_count": 36,
          "metadata": {},
          "output_type": "execute_result"
        },
        {
          "data": {
            "image/png": "[encoded data removed]",
            "text/plain": [
              "<Figure size 432x288 with 1 Axes>"
            ]
          },
          "metadata": {
            "needs_background": "light"
          },
          "output_type": "display_data"
        }
      ]
    },
    {
      "cell_type": "code",
      "metadata": {
        "id": "1fcdcc4e"
      },
      "source": [
        "from sklearn.linear_model import LogisticRegression\n",
        "from sklearn.ensemble import RandomForestClassifier\n",
        "from sklearn.naive_bayes import MultinomialNB\n",
        "\n",
        "from sklearn.model_selection import cross_val_score\n",
        "\n",
        "\n",
        "models = [\n",
        "    RandomForestClassifier(n_estimators=200, max_depth=3, random_state=0),\n",
        "    MultinomialNB(),\n",
        "    LogisticRegression(random_state=0),\n",
        "]\n",
        "CV = 5\n",
        "cv_df = pd.DataFrame(index=range(CV * len(models)))\n",
        "entries = []\n",
        "for model in models:\n",
        "    model_name = model.__class__.__name__\n",
        "    accuracies = cross_val_score(model, features, labels, scoring='accuracy', cv=CV)\n",
        "    for fold_idx, accuracy in enumerate(accuracies):\n",
        "        entries.append((model_name, fold_idx, accuracy))\n",
        "cv_df = pd.DataFrame(entries, columns=['model_name', 'fold_idx', 'accuracy'])"
      ],
      "id": "1fcdcc4e",
      "execution_count": null,
      "outputs": []
    },
    {
      "cell_type": "code",
      "metadata": {
        "id": "45949edf"
      },
      "source": [
        ""
      ],
      "id": "45949edf",
      "execution_count": null,
      "outputs": []
    },
    {
      "cell_type": "code",
      "metadata": {
        "id": "b8439214"
      },
      "source": [
        "from sklearn.model_selection import train_test_split\n",
        "\n",
        "model = LogisticRegression(random_state=0)\n",
        "\n",
        "X_train, X_test, y_train, y_test, indices_train, indices_test = train_test_split(features, labels, data.index, test_size=0.33, random_state=0)\n",
        "model.fit(X_train, y_train)\n",
        "y_pred_proba = model.predict_proba(X_test)\n",
        "y_pred = model.predict(X_test)"
      ],
      "id": "b8439214",
      "execution_count": null,
      "outputs": []
    },
    {
      "cell_type": "code",
      "metadata": {
        "id": "4ea3b9a8",
        "outputId": "c25c335b-f452-4ef8-b69a-a7df761756d0"
      },
      "source": [
        "indices_test"
      ],
      "id": "4ea3b9a8",
      "execution_count": null,
      "outputs": [
        {
          "data": {
            "text/plain": [
              "Int64Index([ 384, 1983,  985, 1386, 1294, 1293, 1259, 1978, 1123, 1405,\n",
              "            ...\n",
              "             408,  434, 1081,  219,  748, 1188,  272, 1453,  893,  720],\n",
              "           dtype='int64', length=735)"
            ]
          },
          "execution_count": 39,
          "metadata": {},
          "output_type": "execute_result"
        }
      ]
    },
    {
      "cell_type": "code",
      "metadata": {
        "id": "5db3a501",
        "outputId": "beeef1ef-33d7-4d41-ad31-a6b5d27c845f"
      },
      "source": [
        "from sklearn.metrics import confusion_matrix\n",
        "import seaborn as sns\n",
        "\n",
        "conf_mat = confusion_matrix(y_test, y_pred)\n",
        "sns.heatmap(conf_mat, annot=True, fmt='d',\n",
        "            xticklabels=category_id_df.newstype.values, yticklabels=category_id_df.newstype.values)\n",
        "plt.ylabel('Actual')\n",
        "plt.xlabel('Predicted')"
      ],
      "id": "5db3a501",
      "execution_count": null,
      "outputs": [
        {
          "data": {
            "text/plain": [
              "Text(0.5, 15.0, 'Predicted')"
            ]
          },
          "execution_count": 40,
          "metadata": {},
          "output_type": "execute_result"
        },
        {
          "data": {
            "image/png": "[encoded data removed]",
            "text/plain": [
              "<Figure size 432x288 with 2 Axes>"
            ]
          },
          "metadata": {
            "needs_background": "light"
          },
          "output_type": "display_data"
        }
      ]
    },
    {
      "cell_type": "code",
      "metadata": {
        "id": "43d0cd12",
        "outputId": "6cdcf9f1-e757-40ae-b2cf-6914ae938ca2"
      },
      "source": [
        "model.fit(features, labels)"
      ],
      "id": "43d0cd12",
      "execution_count": null,
      "outputs": [
        {
          "data": {
            "text/plain": [
              "LogisticRegression(random_state=0)"
            ]
          },
          "execution_count": 41,
          "metadata": {},
          "output_type": "execute_result"
        }
      ]
    },
    {
      "cell_type": "code",
      "metadata": {
        "id": "740505e2",
        "outputId": "f011258f-c4c7-449e-dcee-4f2b92b64b54"
      },
      "source": [
        "texts = [\"Soccer Football - Copa America 2021 - Final - Brazil v Argentina - Estadio Maracana, Rio de Janeiro, Brazil - July 10, 2021 Argentina's\",]\n",
        "text_features = tfidf.transform(texts)\n",
        "predictions = model.predict(text_features)\n",
        "for text, predicted in zip(texts, predictions):\n",
        "    print('\"{}\"'.format(text))\n",
        "    print(\"  - Predicted as: '{}'\".format(id_to_category[predicted]))\n",
        "    print(\"\")"
      ],
      "id": "740505e2",
      "execution_count": null,
      "outputs": [
        {
          "name": "stdout",
          "output_type": "stream",
          "text": [
            "\"Soccer Football - Copa America 2021 - Final - Brazil v Argentina - Estadio Maracana, Rio de Janeiro, Brazil - July 10, 2021 Argentina's\"\n",
            "  - Predicted as: 'sport'\n",
            "\n"
          ]
        }
      ]
    },
    {
      "cell_type": "code",
      "metadata": {
        "id": "e0c53add"
      },
      "source": [
        ""
      ],
      "id": "e0c53add",
      "execution_count": null,
      "outputs": []
    },
    {
      "cell_type": "code",
      "metadata": {
        "id": "e1f7dcc5"
      },
      "source": [
        ""
      ],
      "id": "e1f7dcc5",
      "execution_count": null,
      "outputs": []
    }
  ]
}