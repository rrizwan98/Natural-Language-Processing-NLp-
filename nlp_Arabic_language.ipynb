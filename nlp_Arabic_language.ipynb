{
  "nbformat": 4,
  "nbformat_minor": 0,
  "metadata": {
    "colab": {
      "name": "nlp Arabic language.ipynb",
      "provenance": [],
      "authorship_tag": "ABX9TyPrnAS7ScDY0xOKOqkBWpfO",
      "include_colab_link": true
    },
    "kernelspec": {
      "name": "python3",
      "display_name": "Python 3"
    },
    "accelerator": "GPU"
  },
  "cells": [
    {
      "cell_type": "markdown",
      "metadata": {
        "id": "view-in-github",
        "colab_type": "text"
      },
      "source": [
        "<a href=\"https://colab.research.google.com/github/rrizwan98/Natural-Language-Processing-NLp-/blob/main/nlp_Arabic_language.ipynb\" target=\"_parent\"><img src=\"https://colab.research.google.com/assets/colab-badge.svg\" alt=\"Open In Colab\"/></a>"
      ]
    },
    {
      "cell_type": "code",
      "metadata": {
        "id": "UUIVgphfowx-",
        "colab": {
          "base_uri": "https://localhost:8080/",
          "height": 34
        },
        "outputId": "3cd318cc-e777-4f26-ac59-8850a91d184f"
      },
      "source": [
        "from google.colab import drive\n",
        "drive.mount('/content/drive', force_remount=True)"
      ],
      "execution_count": null,
      "outputs": [
        {
          "output_type": "stream",
          "text": [
            "Mounted at /content/drive\n"
          ],
          "name": "stdout"
        }
      ]
    },
    {
      "cell_type": "code",
      "metadata": {
        "id": "c4xmhAI3pN8C",
        "colab": {
          "base_uri": "https://localhost:8080/",
          "height": 34
        },
        "outputId": "da95a400-308d-4e14-fb09-f3efe1c08854"
      },
      "source": [
        "from zipfile import ZipFile\n",
        "file_name=\"/content/drive/My Drive/arabic hard.zip\"\n",
        "with ZipFile(file_name,'r')as zip:\n",
        "  zip.extractall()\n",
        "  print('raza')"
      ],
      "execution_count": null,
      "outputs": [
        {
          "output_type": "stream",
          "text": [
            "raza\n"
          ],
          "name": "stdout"
        }
      ]
    },
    {
      "cell_type": "code",
      "metadata": {
        "id": "23BWpkQ0Uf_E",
        "colab": {
          "base_uri": "https://localhost:8080/",
          "height": 34
        },
        "outputId": "00456ca1-558b-42c1-e864-b6c5dfefa2ea"
      },
      "source": [
        "from zipfile import ZipFile\n",
        "file_name=\"/content/drive/My Drive/balanced-reviews.zip\"\n",
        "with ZipFile(file_name,'r')as zip:\n",
        "  zip.extractall()\n",
        "  print('raza')"
      ],
      "execution_count": null,
      "outputs": [
        {
          "output_type": "stream",
          "text": [
            "raza\n"
          ],
          "name": "stdout"
        }
      ]
    },
    {
      "cell_type": "code",
      "metadata": {
        "id": "Y5zIiJKKRlLb"
      },
      "source": [
        "from fastai import *\n",
        "from fastai.text import * \n",
        "from IPython.display import display\n"
      ],
      "execution_count": null,
      "outputs": []
    },
    {
      "cell_type": "code",
      "metadata": {
        "id": "Rdi9hXbkhuPS",
        "colab": {
          "base_uri": "https://localhost:8080/",
          "height": 34
        },
        "outputId": "7a557f0d-9317-4706-cbe1-3a70d670e7c0"
      },
      "source": [
        "Path('data/hard/').mkdir(parents=True, exist_ok=True)\n",
        "!cp '../input/balanced-reviews/balanced-reviews-utf8.tsv' data/hard/balanced-reviews.tsv"
      ],
      "execution_count": null,
      "outputs": [
        {
          "output_type": "stream",
          "text": [
            "cp: cannot stat '../input/balanced-reviews/balanced-reviews-utf8.tsv': No such file or directory\n"
          ],
          "name": "stdout"
        }
      ]
    },
    {
      "cell_type": "code",
      "metadata": {
        "id": "55g6uxeepO-J",
        "colab": {
          "base_uri": "https://localhost:8080/",
          "height": 197
        },
        "outputId": "d9fee822-16b3-4ff7-bce6-38a0ff48e460"
      },
      "source": [
        "path=Path('data/hard/')\n",
        "df_ar = pd.read_csv('/content/balanced-reviews-utf8.tsv', delimiter='\\t')\n",
        "df_ar.head() # the first review sounds positive but rating is 2 (-ve). Reviewer's choice!"
      ],
      "execution_count": null,
      "outputs": [
        {
          "output_type": "execute_result",
          "data": {
            "text/html": [
              "<div>\n",
              "<style scoped>\n",
              "    .dataframe tbody tr th:only-of-type {\n",
              "        vertical-align: middle;\n",
              "    }\n",
              "\n",
              "    .dataframe tbody tr th {\n",
              "        vertical-align: top;\n",
              "    }\n",
              "\n",
              "    .dataframe thead th {\n",
              "        text-align: right;\n",
              "    }\n",
              "</style>\n",
              "<table border=\"1\" class=\"dataframe\">\n",
              "  <thead>\n",
              "    <tr style=\"text-align: right;\">\n",
              "      <th></th>\n",
              "      <th>no</th>\n",
              "      <th>Hotel name</th>\n",
              "      <th>rating</th>\n",
              "      <th>user type</th>\n",
              "      <th>room type</th>\n",
              "      <th>nights</th>\n",
              "      <th>review</th>\n",
              "    </tr>\n",
              "  </thead>\n",
              "  <tbody>\n",
              "    <tr>\n",
              "      <th>0</th>\n",
              "      <td>2</td>\n",
              "      <td>فندق 72</td>\n",
              "      <td>2</td>\n",
              "      <td>مسافر منفرد</td>\n",
              "      <td>غرفة ديلوكس مزدوجة أو توأم</td>\n",
              "      <td>أقمت ليلة واحدة</td>\n",
              "      <td>“ممتاز”. النظافة والطاقم متعاون.</td>\n",
              "    </tr>\n",
              "    <tr>\n",
              "      <th>1</th>\n",
              "      <td>3</td>\n",
              "      <td>فندق 72</td>\n",
              "      <td>5</td>\n",
              "      <td>زوج</td>\n",
              "      <td>غرفة ديلوكس مزدوجة أو توأم</td>\n",
              "      <td>أقمت ليلة واحدة</td>\n",
              "      <td>استثنائي. سهولة إنهاء المعاملة في الاستقبال. ل...</td>\n",
              "    </tr>\n",
              "    <tr>\n",
              "      <th>2</th>\n",
              "      <td>16</td>\n",
              "      <td>فندق 72</td>\n",
              "      <td>5</td>\n",
              "      <td>زوج</td>\n",
              "      <td>-</td>\n",
              "      <td>أقمت ليلتين</td>\n",
              "      <td>استثنائي. انصح بأختيار الاسويت و بالاخص غرفه ر...</td>\n",
              "    </tr>\n",
              "    <tr>\n",
              "      <th>3</th>\n",
              "      <td>20</td>\n",
              "      <td>فندق 72</td>\n",
              "      <td>1</td>\n",
              "      <td>زوج</td>\n",
              "      <td>غرفة قياسية مزدوجة</td>\n",
              "      <td>أقمت ليلة واحدة</td>\n",
              "      <td>“استغرب تقييم الفندق كخمس نجوم”. لا شي. يستحق ...</td>\n",
              "    </tr>\n",
              "    <tr>\n",
              "      <th>4</th>\n",
              "      <td>23</td>\n",
              "      <td>فندق 72</td>\n",
              "      <td>4</td>\n",
              "      <td>زوج</td>\n",
              "      <td>غرفة ديلوكس مزدوجة أو توأم</td>\n",
              "      <td>أقمت ليلتين</td>\n",
              "      <td>جيد. المكان جميل وهاديء. كل شي جيد ونظيف بس كا...</td>\n",
              "    </tr>\n",
              "  </tbody>\n",
              "</table>\n",
              "</div>"
            ],
            "text/plain": [
              "   no  ...                                             review\n",
              "0   2  ...                  “ممتاز”. النظافة والطاقم متعاون. \n",
              "1   3  ...  استثنائي. سهولة إنهاء المعاملة في الاستقبال. ل...\n",
              "2  16  ...  استثنائي. انصح بأختيار الاسويت و بالاخص غرفه ر...\n",
              "3  20  ...  “استغرب تقييم الفندق كخمس نجوم”. لا شي. يستحق ...\n",
              "4  23  ...  جيد. المكان جميل وهاديء. كل شي جيد ونظيف بس كا...\n",
              "\n",
              "[5 rows x 7 columns]"
            ]
          },
          "metadata": {
            "tags": []
          },
          "execution_count": 6
        }
      ]
    },
    {
      "cell_type": "code",
      "metadata": {
        "id": "2qIu4kmXpPhW",
        "colab": {
          "base_uri": "https://localhost:8080/",
          "height": 197
        },
        "outputId": "47ba92c1-1902-49cb-81d8-d67b7e47d3e0"
      },
      "source": [
        "df_ar = df_ar[['rating', 'review']] # we are interested in rating and review only\n",
        "# code rating as +ve if > 3, -ve if less, no 3s in dataset \n",
        "df_ar['rating'] = df_ar['rating'].apply(lambda x: -1 if x < 3 else 1)\n",
        "# rename columns to fit default constructor in fastai\n",
        "df_ar.columns = ['label', 'text']\n",
        "df_ar.head()"
      ],
      "execution_count": null,
      "outputs": [
        {
          "output_type": "execute_result",
          "data": {
            "text/html": [
              "<div>\n",
              "<style scoped>\n",
              "    .dataframe tbody tr th:only-of-type {\n",
              "        vertical-align: middle;\n",
              "    }\n",
              "\n",
              "    .dataframe tbody tr th {\n",
              "        vertical-align: top;\n",
              "    }\n",
              "\n",
              "    .dataframe thead th {\n",
              "        text-align: right;\n",
              "    }\n",
              "</style>\n",
              "<table border=\"1\" class=\"dataframe\">\n",
              "  <thead>\n",
              "    <tr style=\"text-align: right;\">\n",
              "      <th></th>\n",
              "      <th>label</th>\n",
              "      <th>text</th>\n",
              "    </tr>\n",
              "  </thead>\n",
              "  <tbody>\n",
              "    <tr>\n",
              "      <th>0</th>\n",
              "      <td>-1</td>\n",
              "      <td>“ممتاز”. النظافة والطاقم متعاون.</td>\n",
              "    </tr>\n",
              "    <tr>\n",
              "      <th>1</th>\n",
              "      <td>1</td>\n",
              "      <td>استثنائي. سهولة إنهاء المعاملة في الاستقبال. ل...</td>\n",
              "    </tr>\n",
              "    <tr>\n",
              "      <th>2</th>\n",
              "      <td>1</td>\n",
              "      <td>استثنائي. انصح بأختيار الاسويت و بالاخص غرفه ر...</td>\n",
              "    </tr>\n",
              "    <tr>\n",
              "      <th>3</th>\n",
              "      <td>-1</td>\n",
              "      <td>“استغرب تقييم الفندق كخمس نجوم”. لا شي. يستحق ...</td>\n",
              "    </tr>\n",
              "    <tr>\n",
              "      <th>4</th>\n",
              "      <td>1</td>\n",
              "      <td>جيد. المكان جميل وهاديء. كل شي جيد ونظيف بس كا...</td>\n",
              "    </tr>\n",
              "  </tbody>\n",
              "</table>\n",
              "</div>"
            ],
            "text/plain": [
              "   label                                               text\n",
              "0     -1                  “ممتاز”. النظافة والطاقم متعاون. \n",
              "1      1  استثنائي. سهولة إنهاء المعاملة في الاستقبال. ل...\n",
              "2      1  استثنائي. انصح بأختيار الاسويت و بالاخص غرفه ر...\n",
              "3     -1  “استغرب تقييم الفندق كخمس نجوم”. لا شي. يستحق ...\n",
              "4      1  جيد. المكان جميل وهاديء. كل شي جيد ونظيف بس كا..."
            ]
          },
          "metadata": {
            "tags": []
          },
          "execution_count": 7
        }
      ]
    },
    {
      "cell_type": "code",
      "metadata": {
        "id": "_jQRRRJfXRnS",
        "colab": {
          "base_uri": "https://localhost:8080/",
          "height": 197
        },
        "outputId": "47a94b3d-583f-4067-8292-86e56784d3c1"
      },
      "source": [
        "df_valid = df_ar.sample(21140, replace = False) # 20% for validation\n",
        "df_valid['is_valid'] = True\n",
        "df_train = df_ar.drop(df_valid.index)\n",
        "df_train['is_valid'] = False\n",
        "\n",
        "df_all = pd.concat([df_train, df_valid])\n",
        "df_all.head()"
      ],
      "execution_count": null,
      "outputs": [
        {
          "output_type": "execute_result",
          "data": {
            "text/html": [
              "<div>\n",
              "<style scoped>\n",
              "    .dataframe tbody tr th:only-of-type {\n",
              "        vertical-align: middle;\n",
              "    }\n",
              "\n",
              "    .dataframe tbody tr th {\n",
              "        vertical-align: top;\n",
              "    }\n",
              "\n",
              "    .dataframe thead th {\n",
              "        text-align: right;\n",
              "    }\n",
              "</style>\n",
              "<table border=\"1\" class=\"dataframe\">\n",
              "  <thead>\n",
              "    <tr style=\"text-align: right;\">\n",
              "      <th></th>\n",
              "      <th>label</th>\n",
              "      <th>text</th>\n",
              "      <th>is_valid</th>\n",
              "    </tr>\n",
              "  </thead>\n",
              "  <tbody>\n",
              "    <tr>\n",
              "      <th>0</th>\n",
              "      <td>-1</td>\n",
              "      <td>“ممتاز”. النظافة والطاقم متعاون.</td>\n",
              "      <td>False</td>\n",
              "    </tr>\n",
              "    <tr>\n",
              "      <th>1</th>\n",
              "      <td>1</td>\n",
              "      <td>استثنائي. سهولة إنهاء المعاملة في الاستقبال. ل...</td>\n",
              "      <td>False</td>\n",
              "    </tr>\n",
              "    <tr>\n",
              "      <th>2</th>\n",
              "      <td>1</td>\n",
              "      <td>استثنائي. انصح بأختيار الاسويت و بالاخص غرفه ر...</td>\n",
              "      <td>False</td>\n",
              "    </tr>\n",
              "    <tr>\n",
              "      <th>3</th>\n",
              "      <td>-1</td>\n",
              "      <td>“استغرب تقييم الفندق كخمس نجوم”. لا شي. يستحق ...</td>\n",
              "      <td>False</td>\n",
              "    </tr>\n",
              "    <tr>\n",
              "      <th>4</th>\n",
              "      <td>1</td>\n",
              "      <td>جيد. المكان جميل وهاديء. كل شي جيد ونظيف بس كا...</td>\n",
              "      <td>False</td>\n",
              "    </tr>\n",
              "  </tbody>\n",
              "</table>\n",
              "</div>"
            ],
            "text/plain": [
              "   label                                               text  is_valid\n",
              "0     -1                  “ممتاز”. النظافة والطاقم متعاون.      False\n",
              "1      1  استثنائي. سهولة إنهاء المعاملة في الاستقبال. ل...     False\n",
              "2      1  استثنائي. انصح بأختيار الاسويت و بالاخص غرفه ر...     False\n",
              "3     -1  “استغرب تقييم الفندق كخمس نجوم”. لا شي. يستحق ...     False\n",
              "4      1  جيد. المكان جميل وهاديء. كل شي جيد ونظيف بس كا...     False"
            ]
          },
          "metadata": {
            "tags": []
          },
          "execution_count": 8
        }
      ]
    },
    {
      "cell_type": "code",
      "metadata": {
        "id": "pNO3Lp3BXZGp"
      },
      "source": [
        "# write to csv (overwrites by default)\n",
        "df_all.to_csv(path/'hard_text.csv', index=False)"
      ],
      "execution_count": null,
      "outputs": []
    },
    {
      "cell_type": "code",
      "metadata": {
        "id": "HeMsXBg7Xctw",
        "colab": {
          "base_uri": "https://localhost:8080/",
          "height": 197
        },
        "outputId": "5be53aca-713a-456a-e5b6-97cce86f5292"
      },
      "source": [
        "df = pd.read_csv(path/'hard_text.csv')\n",
        "df.head()"
      ],
      "execution_count": null,
      "outputs": [
        {
          "output_type": "execute_result",
          "data": {
            "text/html": [
              "<div>\n",
              "<style scoped>\n",
              "    .dataframe tbody tr th:only-of-type {\n",
              "        vertical-align: middle;\n",
              "    }\n",
              "\n",
              "    .dataframe tbody tr th {\n",
              "        vertical-align: top;\n",
              "    }\n",
              "\n",
              "    .dataframe thead th {\n",
              "        text-align: right;\n",
              "    }\n",
              "</style>\n",
              "<table border=\"1\" class=\"dataframe\">\n",
              "  <thead>\n",
              "    <tr style=\"text-align: right;\">\n",
              "      <th></th>\n",
              "      <th>label</th>\n",
              "      <th>text</th>\n",
              "      <th>is_valid</th>\n",
              "    </tr>\n",
              "  </thead>\n",
              "  <tbody>\n",
              "    <tr>\n",
              "      <th>0</th>\n",
              "      <td>-1</td>\n",
              "      <td>“ممتاز”. النظافة والطاقم متعاون.</td>\n",
              "      <td>False</td>\n",
              "    </tr>\n",
              "    <tr>\n",
              "      <th>1</th>\n",
              "      <td>1</td>\n",
              "      <td>استثنائي. سهولة إنهاء المعاملة في الاستقبال. ل...</td>\n",
              "      <td>False</td>\n",
              "    </tr>\n",
              "    <tr>\n",
              "      <th>2</th>\n",
              "      <td>1</td>\n",
              "      <td>استثنائي. انصح بأختيار الاسويت و بالاخص غرفه ر...</td>\n",
              "      <td>False</td>\n",
              "    </tr>\n",
              "    <tr>\n",
              "      <th>3</th>\n",
              "      <td>-1</td>\n",
              "      <td>“استغرب تقييم الفندق كخمس نجوم”. لا شي. يستحق ...</td>\n",
              "      <td>False</td>\n",
              "    </tr>\n",
              "    <tr>\n",
              "      <th>4</th>\n",
              "      <td>1</td>\n",
              "      <td>جيد. المكان جميل وهاديء. كل شي جيد ونظيف بس كا...</td>\n",
              "      <td>False</td>\n",
              "    </tr>\n",
              "  </tbody>\n",
              "</table>\n",
              "</div>"
            ],
            "text/plain": [
              "   label                                               text  is_valid\n",
              "0     -1                  “ممتاز”. النظافة والطاقم متعاون.      False\n",
              "1      1  استثنائي. سهولة إنهاء المعاملة في الاستقبال. ل...     False\n",
              "2      1  استثنائي. انصح بأختيار الاسويت و بالاخص غرفه ر...     False\n",
              "3     -1  “استغرب تقييم الفندق كخمس نجوم”. لا شي. يستحق ...     False\n",
              "4      1  جيد. المكان جميل وهاديء. كل شي جيد ونظيف بس كا...     False"
            ]
          },
          "metadata": {
            "tags": []
          },
          "execution_count": 10
        }
      ]
    },
    {
      "cell_type": "code",
      "metadata": {
        "id": "7r_AysRWYP0u",
        "colab": {
          "base_uri": "https://localhost:8080/",
          "height": 406
        },
        "outputId": "05794c93-7559-4ac3-9cc2-7ab67d7608e0"
      },
      "source": [
        "x=df.drop(['label'],axis=1)\n",
        "y=df['label']\n",
        "x"
      ],
      "execution_count": null,
      "outputs": [
        {
          "output_type": "execute_result",
          "data": {
            "text/html": [
              "<div>\n",
              "<style scoped>\n",
              "    .dataframe tbody tr th:only-of-type {\n",
              "        vertical-align: middle;\n",
              "    }\n",
              "\n",
              "    .dataframe tbody tr th {\n",
              "        vertical-align: top;\n",
              "    }\n",
              "\n",
              "    .dataframe thead th {\n",
              "        text-align: right;\n",
              "    }\n",
              "</style>\n",
              "<table border=\"1\" class=\"dataframe\">\n",
              "  <thead>\n",
              "    <tr style=\"text-align: right;\">\n",
              "      <th></th>\n",
              "      <th>text</th>\n",
              "      <th>is_valid</th>\n",
              "    </tr>\n",
              "  </thead>\n",
              "  <tbody>\n",
              "    <tr>\n",
              "      <th>0</th>\n",
              "      <td>“ممتاز”. النظافة والطاقم متعاون.</td>\n",
              "      <td>False</td>\n",
              "    </tr>\n",
              "    <tr>\n",
              "      <th>1</th>\n",
              "      <td>استثنائي. سهولة إنهاء المعاملة في الاستقبال. ل...</td>\n",
              "      <td>False</td>\n",
              "    </tr>\n",
              "    <tr>\n",
              "      <th>2</th>\n",
              "      <td>استثنائي. انصح بأختيار الاسويت و بالاخص غرفه ر...</td>\n",
              "      <td>False</td>\n",
              "    </tr>\n",
              "    <tr>\n",
              "      <th>3</th>\n",
              "      <td>“استغرب تقييم الفندق كخمس نجوم”. لا شي. يستحق ...</td>\n",
              "      <td>False</td>\n",
              "    </tr>\n",
              "    <tr>\n",
              "      <th>4</th>\n",
              "      <td>جيد. المكان جميل وهاديء. كل شي جيد ونظيف بس كا...</td>\n",
              "      <td>False</td>\n",
              "    </tr>\n",
              "    <tr>\n",
              "      <th>...</th>\n",
              "      <td>...</td>\n",
              "      <td>...</td>\n",
              "    </tr>\n",
              "    <tr>\n",
              "      <th>105693</th>\n",
              "      <td>ضعيف جداً. . ضعف في التكيف ضعف في طريقهالمعامل...</td>\n",
              "      <td>True</td>\n",
              "    </tr>\n",
              "    <tr>\n",
              "      <th>105694</th>\n",
              "      <td>مخيب للأمل. نظافة الشاطئ. غلاء السعر مقارنة با...</td>\n",
              "      <td>True</td>\n",
              "    </tr>\n",
              "    <tr>\n",
              "      <th>105695</th>\n",
              "      <td>“ممتاز”. خدمة ممتازة.</td>\n",
              "      <td>True</td>\n",
              "    </tr>\n",
              "    <tr>\n",
              "      <th>105696</th>\n",
              "      <td>“كاد ان يقتلني لو لا رحمة الله ...”. موقعه بال...</td>\n",
              "      <td>True</td>\n",
              "    </tr>\n",
              "    <tr>\n",
              "      <th>105697</th>\n",
              "      <td>استثنائي. الافطار لذيذ ومتنوع والسرير مريح جدا.</td>\n",
              "      <td>True</td>\n",
              "    </tr>\n",
              "  </tbody>\n",
              "</table>\n",
              "<p>105698 rows × 2 columns</p>\n",
              "</div>"
            ],
            "text/plain": [
              "                                                     text  is_valid\n",
              "0                       “ممتاز”. النظافة والطاقم متعاون.      False\n",
              "1       استثنائي. سهولة إنهاء المعاملة في الاستقبال. ل...     False\n",
              "2       استثنائي. انصح بأختيار الاسويت و بالاخص غرفه ر...     False\n",
              "3       “استغرب تقييم الفندق كخمس نجوم”. لا شي. يستحق ...     False\n",
              "4       جيد. المكان جميل وهاديء. كل شي جيد ونظيف بس كا...     False\n",
              "...                                                   ...       ...\n",
              "105693  ضعيف جداً. . ضعف في التكيف ضعف في طريقهالمعامل...      True\n",
              "105694  مخيب للأمل. نظافة الشاطئ. غلاء السعر مقارنة با...      True\n",
              "105695                             “ممتاز”. خدمة ممتازة.       True\n",
              "105696  “كاد ان يقتلني لو لا رحمة الله ...”. موقعه بال...      True\n",
              "105697   استثنائي. الافطار لذيذ ومتنوع والسرير مريح جدا.       True\n",
              "\n",
              "[105698 rows x 2 columns]"
            ]
          },
          "metadata": {
            "tags": []
          },
          "execution_count": 11
        }
      ]
    },
    {
      "cell_type": "code",
      "metadata": {
        "id": "hHDxY5gFWq7E",
        "colab": {
          "base_uri": "https://localhost:8080/",
          "height": 52
        },
        "outputId": "c529add9-2787-4ab2-b548-600f283a94dd"
      },
      "source": [
        "Path('models/').mkdir(parents=True, exist_ok=True)\n",
        "!cp -a '../input/model45_30_4/lm_best.pth' models/\n",
        "!cp '../input/model45_30_4/itos.pkl' models/"
      ],
      "execution_count": null,
      "outputs": [
        {
          "output_type": "stream",
          "text": [
            "cp: cannot stat '../input/model45_30_4/lm_best.pth': No such file or directory\n",
            "cp: cannot stat '../input/model45_30_4/itos.pkl': No such file or directory\n"
          ],
          "name": "stdout"
        }
      ]
    },
    {
      "cell_type": "code",
      "metadata": {
        "id": "ckAnUrGpW6CA",
        "colab": {
          "base_uri": "https://localhost:8080/",
          "height": 34
        },
        "outputId": "c2422d1b-1f24-4e44-ddd1-ea01dfd9b66e"
      },
      "source": [
        "Path('models/').absolute() # get absolute path od model files"
      ],
      "execution_count": null,
      "outputs": [
        {
          "output_type": "execute_result",
          "data": {
            "text/plain": [
              "PosixPath('/content/models')"
            ]
          },
          "metadata": {
            "tags": []
          },
          "execution_count": 13
        }
      ]
    },
    {
      "cell_type": "code",
      "metadata": {
        "id": "Pzk_crpnZyR5"
      },
      "source": [
        "pretrained_fnames=['/kaggle/working/models/lm_best','/kaggle/working/models/itos']"
      ],
      "execution_count": null,
      "outputs": []
    },
    {
      "cell_type": "code",
      "metadata": {
        "id": "o1THI8nHWzPX",
        "colab": {
          "base_uri": "https://localhost:8080/",
          "height": 641
        },
        "outputId": "c0052b15-a7c6-4848-f2a5-dd6dff0c048a"
      },
      "source": [
        "# Language model data\n",
        "data_lm = TextLMDataBunch.from_csv(path, 'hard_text.csv')\n",
        "# Classifier model data\n",
        "data_clas = TextClasDataBunch.from_csv(path, 'hard_text.csv', vocab=data_lm.train_ds.vocab, bs=64, num_workers=0)\n",
        "\n"
      ],
      "execution_count": null,
      "outputs": [
        {
          "output_type": "display_data",
          "data": {
            "text/html": [
              ""
            ],
            "text/plain": [
              "<IPython.core.display.HTML object>"
            ]
          },
          "metadata": {
            "tags": []
          }
        },
        {
          "output_type": "display_data",
          "data": {
            "text/html": [
              ""
            ],
            "text/plain": [
              "<IPython.core.display.HTML object>"
            ]
          },
          "metadata": {
            "tags": []
          }
        },
        {
          "output_type": "display_data",
          "data": {
            "text/html": [
              ""
            ],
            "text/plain": [
              "<IPython.core.display.HTML object>"
            ]
          },
          "metadata": {
            "tags": []
          }
        },
        {
          "output_type": "display_data",
          "data": {
            "text/html": [
              ""
            ],
            "text/plain": [
              "<IPython.core.display.HTML object>"
            ]
          },
          "metadata": {
            "tags": []
          }
        },
        {
          "output_type": "stream",
          "text": [
            "TextLMDataBunch;\n",
            "\n",
            "Train: LabelList (84558 items)\n",
            "x: LMTextList\n",
            "xxbos مخيب للأمل . اعجبني القرب من الحرم xxunk الاسره والمخدات . الذي لم يعجبني عدم وجود مواقف للسياره وهم وعدو بذلك النظافه متدنيه وخاصه في فرشة الممرات,xxbos مخيب للأمل . موقع الفندق . النظافة,xxbos “ سيئ ” . مستوى النظافه فى منتهى السوء ولا يستحق المقابل المادى المدفوع فيه . سوء النظافه,xxbos “ اقامه ممتعه ومريحه وارجو تحسين المصعد xxunk ” . الاستقبال كان جيد . الافطار افضل الاهتمام به علما بأني لم اطلب وجبه الافطار مع الحجز ولكن اطلعت على البوفيه وكان غير جيد,xxbos “ تجربه سيئه ومخيفه ” . الاثاث والديكور والمسبح . عمال الصيانه تركوا فتحه في الحوش xxunk يقارب الثلاث أمتار بدون تغطيه او تحذير وكاد ابني الصغير يسقط لولا حفظ الله ولله الحمد\n",
            "y: LMLabelList\n",
            ",,,,\n",
            "Path: data/hard;\n",
            "\n",
            "Valid: LabelList (21140 items)\n",
            "x: LMTextList\n",
            "xxbos ضعيف جداً. ريحه معفنه مرا دخلت وانا حاجز وبعد xxunk الريحة ع طول خرجة منه ورجعت كل مافي xxunk ولا فيه خدمة مواقف انا متعود افتح باب السيارة xxunk داخل الفندق ويجي واحد من الفندق xxunk xxunk هذا الفندق لا xxunk بيده روح xxunk موقف هندي . كل شي لم يعجبني,xxbos “ تجربة لن تتكرر ” . المواصلات من والى الحرم . xxunk النظافة والخدمة جدا سيئة ، على مدار ليلتين لم يتم تنظيف الغرف ، وعدم توفر الأدوات الاساسية لإعداد القهوة والشاي ، لا يوجد تنسيق بين خدمة الغرف والمطعم . ٢- عدم تتطابق عدد الاسرة الموجودة بالموقع مع الواقع حيث يتم احتساب ( كنب الصالة ) xxunk ! بالرغم من تحديد عدد النزلاء !,xxbos “ ممتازه لكن الاسعار غاليه جدا ” . النظافه الخدمه السريعه الواي فاي الهدوء في المكان وحوله لكن xxunk xxrep 5 ا ر غال xxrep 5 ي ه جدا جدا .,xxbos جيد . فندق عادي جدا . الاثاث قديم ، ، ،,xxbos استثنائي . الشرفة xxunk الهدو . نقص المطاعم والكوفي\n",
            "y: LMLabelList\n",
            ",,,,\n",
            "Path: data/hard;\n",
            "\n",
            "Test: None\n",
            "TextClasDataBunch;\n",
            "\n",
            "Train: LabelList (84558 items)\n",
            "x: TextList\n",
            "xxbos “ بوخالد العين ” . الموقع كبر مساحة الشقة . التأخير في إجراءات الدخول بس للأمانة كان عيد وزحمة,xxbos ضعيف جداً. لا يوجد . النظافه و التكيف,xxbos جيد . الهدوء و النظافه . البوفيه كان أقل من المستوى العادي,xxbos “ جمال المكان وطيب المعاملة ” . بنظافة المكان والمعاملة الطيبة من قبل الموظفين .,xxbos جيد جداً. الهدوء والكل يقدمو المساعده .\n",
            "y: CategoryList\n",
            "1,-1,1,1,1\n",
            "Path: data/hard;\n",
            "\n",
            "Valid: LabelList (21140 items)\n",
            "x: TextList\n",
            "xxbos جيد . . تم الغاء حجزين سابقين,xxbos “ اكثر من ر xxrep 9 ا ئع ” . كل شي . لاشي,xxbos “ فندق سيء , لا يواكب موقعه ” . . الفندق قديم جدا , و النظافه جدا سيئه و مليء بالحشرات,xxbos مخيب للأمل . . لم يوجد مواقف xxunk للفندق,xxbos ضعيف جداً. . ازعاج اثناء النومعدم xxunk السيارات سيئه جدا وضيقه\n",
            "y: CategoryList\n",
            "1,1,-1,-1,-1\n",
            "Path: data/hard;\n",
            "\n",
            "Test: None\n"
          ],
          "name": "stdout"
        }
      ]
    },
    {
      "cell_type": "code",
      "metadata": {
        "id": "xlnlosC21xPB",
        "colab": {
          "base_uri": "https://localhost:8080/",
          "height": 338
        },
        "outputId": "0348d172-d4ec-4b62-f827-29fed834ffdc"
      },
      "source": [
        "print(data_lm)"
      ],
      "execution_count": null,
      "outputs": [
        {
          "output_type": "stream",
          "text": [
            "TextLMDataBunch;\n",
            "\n",
            "Train: LabelList (84558 items)\n",
            "x: LMTextList\n",
            "xxbos مخيب للأمل . اعجبني القرب من الحرم xxunk الاسره والمخدات . الذي لم يعجبني عدم وجود مواقف للسياره وهم وعدو بذلك النظافه متدنيه وخاصه في فرشة الممرات,xxbos مخيب للأمل . موقع الفندق . النظافة,xxbos “ سيئ ” . مستوى النظافه فى منتهى السوء ولا يستحق المقابل المادى المدفوع فيه . سوء النظافه,xxbos “ اقامه ممتعه ومريحه وارجو تحسين المصعد xxunk ” . الاستقبال كان جيد . الافطار افضل الاهتمام به علما بأني لم اطلب وجبه الافطار مع الحجز ولكن اطلعت على البوفيه وكان غير جيد,xxbos “ تجربه سيئه ومخيفه ” . الاثاث والديكور والمسبح . عمال الصيانه تركوا فتحه في الحوش xxunk يقارب الثلاث أمتار بدون تغطيه او تحذير وكاد ابني الصغير يسقط لولا حفظ الله ولله الحمد\n",
            "y: LMLabelList\n",
            ",,,,\n",
            "Path: data/hard;\n",
            "\n",
            "Valid: LabelList (21140 items)\n",
            "x: LMTextList\n",
            "xxbos ضعيف جداً. ريحه معفنه مرا دخلت وانا حاجز وبعد xxunk الريحة ع طول خرجة منه ورجعت كل مافي xxunk ولا فيه خدمة مواقف انا متعود افتح باب السيارة xxunk داخل الفندق ويجي واحد من الفندق xxunk xxunk هذا الفندق لا xxunk بيده روح xxunk موقف هندي . كل شي لم يعجبني,xxbos “ تجربة لن تتكرر ” . المواصلات من والى الحرم . xxunk النظافة والخدمة جدا سيئة ، على مدار ليلتين لم يتم تنظيف الغرف ، وعدم توفر الأدوات الاساسية لإعداد القهوة والشاي ، لا يوجد تنسيق بين خدمة الغرف والمطعم . ٢- عدم تتطابق عدد الاسرة الموجودة بالموقع مع الواقع حيث يتم احتساب ( كنب الصالة ) xxunk ! بالرغم من تحديد عدد النزلاء !,xxbos “ ممتازه لكن الاسعار غاليه جدا ” . النظافه الخدمه السريعه الواي فاي الهدوء في المكان وحوله لكن xxunk xxrep 5 ا ر غال xxrep 5 ي ه جدا جدا .,xxbos جيد . فندق عادي جدا . الاثاث قديم ، ، ،,xxbos استثنائي . الشرفة xxunk الهدو . نقص المطاعم والكوفي\n",
            "y: LMLabelList\n",
            ",,,,\n",
            "Path: data/hard;\n",
            "\n",
            "Test: None\n"
          ],
          "name": "stdout"
        }
      ]
    },
    {
      "cell_type": "code",
      "metadata": {
        "id": "-HyW7mwE2Mh9",
        "colab": {
          "base_uri": "https://localhost:8080/",
          "height": 318
        },
        "outputId": "940c2350-0c57-4a64-8f29-40e23bd6a162"
      },
      "source": [
        "print(data_clas)"
      ],
      "execution_count": null,
      "outputs": [
        {
          "output_type": "stream",
          "text": [
            "TextClasDataBunch;\n",
            "\n",
            "Train: LabelList (84558 items)\n",
            "x: TextList\n",
            "xxbos “ بوخالد العين ” . الموقع كبر مساحة الشقة . التأخير في إجراءات الدخول بس للأمانة كان عيد وزحمة,xxbos ضعيف جداً. لا يوجد . النظافه و التكيف,xxbos جيد . الهدوء و النظافه . البوفيه كان أقل من المستوى العادي,xxbos “ جمال المكان وطيب المعاملة ” . بنظافة المكان والمعاملة الطيبة من قبل الموظفين .,xxbos جيد جداً. الهدوء والكل يقدمو المساعده .\n",
            "y: CategoryList\n",
            "1,-1,1,1,1\n",
            "Path: data/hard;\n",
            "\n",
            "Valid: LabelList (21140 items)\n",
            "x: TextList\n",
            "xxbos جيد . . تم الغاء حجزين سابقين,xxbos “ اكثر من ر xxrep 9 ا ئع ” . كل شي . لاشي,xxbos “ فندق سيء , لا يواكب موقعه ” . . الفندق قديم جدا , و النظافه جدا سيئه و مليء بالحشرات,xxbos مخيب للأمل . . لم يوجد مواقف xxunk للفندق,xxbos ضعيف جداً. . ازعاج اثناء النومعدم xxunk السيارات سيئه جدا وضيقه\n",
            "y: CategoryList\n",
            "1,1,-1,-1,-1\n",
            "Path: data/hard;\n",
            "\n",
            "Test: None\n"
          ],
          "name": "stdout"
        }
      ]
    },
    {
      "cell_type": "code",
      "metadata": {
        "id": "YFNFkZK0iTr0"
      },
      "source": [
        "data_lm.save()\n",
        "data_clas.save()\n"
      ],
      "execution_count": null,
      "outputs": []
    },
    {
      "cell_type": "code",
      "metadata": {
        "id": "9i38DmgqnLjz"
      },
      "source": [
        "data_lm"
      ],
      "execution_count": null,
      "outputs": []
    },
    {
      "cell_type": "code",
      "metadata": {
        "id": "MI70W82Aj2IR",
        "colab": {
          "base_uri": "https://localhost:8080/",
          "height": 391
        },
        "outputId": "ac8bce55-b18c-4830-85bc-1c26e85eb0b2"
      },
      "source": [
        "learn=language_model_learner(data_lm, AWD_LSTM, drop_mult=0.5) # was .5\n",
        "learn.lr_find(start_lr = slice(10e-7,10e-5),end_lr=slice(0.1,10))#start_lr = slice(10e-7,10e-5),end_lr=slice(0.1,10))\n",
        "learn.recorder.plot(skip_end=10)"
      ],
      "execution_count": null,
      "outputs": [
        {
          "output_type": "stream",
          "text": [
            "Downloading https://s3.amazonaws.com/fast-ai-modelzoo/wt103-fwd.tgz\n"
          ],
          "name": "stdout"
        },
        {
          "output_type": "display_data",
          "data": {
            "text/html": [
              ""
            ],
            "text/plain": [
              "<IPython.core.display.HTML object>"
            ]
          },
          "metadata": {
            "tags": []
          }
        },
        {
          "output_type": "display_data",
          "data": {
            "text/html": [
              "\n",
              "    <div>\n",
              "        <style>\n",
              "            /* Turns off some styling */\n",
              "            progress {\n",
              "                /* gets rid of default border in Firefox and Opera. */\n",
              "                border: none;\n",
              "                /* Needs to be in here for Safari polyfill so background images work as expected. */\n",
              "                background-size: auto;\n",
              "            }\n",
              "            .progress-bar-interrupted, .progress-bar-interrupted::-webkit-progress-bar {\n",
              "                background: #F44336;\n",
              "            }\n",
              "        </style>\n",
              "      <progress value='0' class='' max='1' style='width:300px; height:20px; vertical-align: middle;'></progress>\n",
              "      0.00% [0/1 00:00<00:00]\n",
              "    </div>\n",
              "    \n",
              "<table border=\"1\" class=\"dataframe\">\n",
              "  <thead>\n",
              "    <tr style=\"text-align: left;\">\n",
              "      <th>epoch</th>\n",
              "      <th>train_loss</th>\n",
              "      <th>valid_loss</th>\n",
              "      <th>accuracy</th>\n",
              "      <th>time</th>\n",
              "    </tr>\n",
              "  </thead>\n",
              "  <tbody>\n",
              "  </tbody>\n",
              "</table><p>\n",
              "\n",
              "    <div>\n",
              "        <style>\n",
              "            /* Turns off some styling */\n",
              "            progress {\n",
              "                /* gets rid of default border in Firefox and Opera. */\n",
              "                border: none;\n",
              "                /* Needs to be in here for Safari polyfill so background images work as expected. */\n",
              "                background-size: auto;\n",
              "            }\n",
              "            .progress-bar-interrupted, .progress-bar-interrupted::-webkit-progress-bar {\n",
              "                background: #F44336;\n",
              "            }\n",
              "        </style>\n",
              "      <progress value='99' class='' max='538' style='width:300px; height:20px; vertical-align: middle;'></progress>\n",
              "      18.40% [99/538 00:28<02:06 18.4200]\n",
              "    </div>\n",
              "    "
            ],
            "text/plain": [
              "<IPython.core.display.HTML object>"
            ]
          },
          "metadata": {
            "tags": []
          }
        },
        {
          "output_type": "stream",
          "text": [
            "LR Finder is complete, type {learner_name}.recorder.plot() to see the graph.\n"
          ],
          "name": "stdout"
        },
        {
          "output_type": "display_data",
          "data": {
            "image/png": "[encoded data removed]",
            "text/plain": [
              "<Figure size 432x288 with 1 Axes>"
            ]
          },
          "metadata": {
            "tags": [],
            "needs_background": "light"
          }
        }
      ]
    },
    {
      "cell_type": "code",
      "metadata": {
        "id": "2Oj76gAsiYgF",
        "colab": {
          "base_uri": "https://localhost:8080/",
          "height": 77
        },
        "outputId": "18785acd-fd19-48d5-8a5a-becff8b97e1c"
      },
      "source": [
        "learn.fit_one_cycle(1, 2e-2)"
      ],
      "execution_count": null,
      "outputs": [
        {
          "output_type": "display_data",
          "data": {
            "text/html": [
              "<table border=\"1\" class=\"dataframe\">\n",
              "  <thead>\n",
              "    <tr style=\"text-align: left;\">\n",
              "      <th>epoch</th>\n",
              "      <th>train_loss</th>\n",
              "      <th>valid_loss</th>\n",
              "      <th>accuracy</th>\n",
              "      <th>time</th>\n",
              "    </tr>\n",
              "  </thead>\n",
              "  <tbody>\n",
              "    <tr>\n",
              "      <td>0</td>\n",
              "      <td>5.570888</td>\n",
              "      <td>5.271931</td>\n",
              "      <td>0.230140</td>\n",
              "      <td>03:02</td>\n",
              "    </tr>\n",
              "  </tbody>\n",
              "</table>"
            ],
            "text/plain": [
              "<IPython.core.display.HTML object>"
            ]
          },
          "metadata": {
            "tags": []
          }
        }
      ]
    },
    {
      "cell_type": "code",
      "metadata": {
        "id": "X-uZ_vcb2pUf",
        "colab": {
          "base_uri": "https://localhost:8080/",
          "height": 137
        },
        "outputId": "c88f34d5-ac07-4742-d4ef-6515444d005f"
      },
      "source": [
        "learn.unfreeze()\n",
        "learn.fit_one_cycle(3, 2e-2)"
      ],
      "execution_count": null,
      "outputs": [
        {
          "output_type": "display_data",
          "data": {
            "text/html": [
              "<table border=\"1\" class=\"dataframe\">\n",
              "  <thead>\n",
              "    <tr style=\"text-align: left;\">\n",
              "      <th>epoch</th>\n",
              "      <th>train_loss</th>\n",
              "      <th>valid_loss</th>\n",
              "      <th>accuracy</th>\n",
              "      <th>time</th>\n",
              "    </tr>\n",
              "  </thead>\n",
              "  <tbody>\n",
              "    <tr>\n",
              "      <td>0</td>\n",
              "      <td>5.205563</td>\n",
              "      <td>4.996970</td>\n",
              "      <td>0.244500</td>\n",
              "      <td>03:38</td>\n",
              "    </tr>\n",
              "    <tr>\n",
              "      <td>1</td>\n",
              "      <td>4.884339</td>\n",
              "      <td>4.733696</td>\n",
              "      <td>0.260169</td>\n",
              "      <td>03:44</td>\n",
              "    </tr>\n",
              "    <tr>\n",
              "      <td>2</td>\n",
              "      <td>4.515150</td>\n",
              "      <td>4.622321</td>\n",
              "      <td>0.268755</td>\n",
              "      <td>03:46</td>\n",
              "    </tr>\n",
              "  </tbody>\n",
              "</table>"
            ],
            "text/plain": [
              "<IPython.core.display.HTML object>"
            ]
          },
          "metadata": {
            "tags": []
          }
        }
      ]
    },
    {
      "cell_type": "code",
      "metadata": {
        "id": "VWVWyQCl2sUP",
        "colab": {
          "base_uri": "https://localhost:8080/",
          "height": 35
        },
        "outputId": "38858957-59f2-4de6-ea65-423595a7b035"
      },
      "source": [
        "learn.predict(\"كخمس نجوم”. لا شي. يستحق \", n_words=10)\n",
        "# first amount of words (here 10), the next 10 target words (actual) and the ones predicted.\n",
        "#learn.show_results(max_len = 10)"
      ],
      "execution_count": null,
      "outputs": [
        {
          "output_type": "execute_result",
          "data": {
            "application/vnd.google.colaboratory.intrinsic+json": {
              "type": "string"
            },
            "text/plain": [
              "'كخمس نجوم”. لا شي. يستحق  الاوتيل خمس نجوم بالكثير الغرفه للزبائن شكلا اصواتهم لاسف !'"
            ]
          },
          "metadata": {
            "tags": []
          },
          "execution_count": 22
        }
      ]
    },
    {
      "cell_type": "code",
      "metadata": {
        "id": "ii77CcgGXfmO",
        "colab": {
          "base_uri": "https://localhost:8080/",
          "height": 407
        },
        "outputId": "6a9fa6b5-bc8e-4c00-9ce4-f86df04a3ddb"
      },
      "source": [
        "from sklearn.preprocessing import LabelEncoder\n",
        "le=LabelEncoder()\n",
        "data=x.apply(le.fit_transform)\n",
        "data"
      ],
      "execution_count": null,
      "outputs": [
        {
          "output_type": "execute_result",
          "data": {
            "text/html": [
              "<div>\n",
              "<style scoped>\n",
              "    .dataframe tbody tr th:only-of-type {\n",
              "        vertical-align: middle;\n",
              "    }\n",
              "\n",
              "    .dataframe tbody tr th {\n",
              "        vertical-align: top;\n",
              "    }\n",
              "\n",
              "    .dataframe thead th {\n",
              "        text-align: right;\n",
              "    }\n",
              "</style>\n",
              "<table border=\"1\" class=\"dataframe\">\n",
              "  <thead>\n",
              "    <tr style=\"text-align: right;\">\n",
              "      <th></th>\n",
              "      <th>text</th>\n",
              "      <th>is_valid</th>\n",
              "    </tr>\n",
              "  </thead>\n",
              "  <tbody>\n",
              "    <tr>\n",
              "      <th>0</th>\n",
              "      <td>98439</td>\n",
              "      <td>0</td>\n",
              "    </tr>\n",
              "    <tr>\n",
              "      <th>1</th>\n",
              "      <td>3910</td>\n",
              "      <td>0</td>\n",
              "    </tr>\n",
              "    <tr>\n",
              "      <th>2</th>\n",
              "      <td>3066</td>\n",
              "      <td>0</td>\n",
              "    </tr>\n",
              "    <tr>\n",
              "      <th>3</th>\n",
              "      <td>47230</td>\n",
              "      <td>0</td>\n",
              "    </tr>\n",
              "    <tr>\n",
              "      <th>4</th>\n",
              "      <td>12602</td>\n",
              "      <td>0</td>\n",
              "    </tr>\n",
              "    <tr>\n",
              "      <th>...</th>\n",
              "      <td>...</td>\n",
              "      <td>...</td>\n",
              "    </tr>\n",
              "    <tr>\n",
              "      <th>105693</th>\n",
              "      <td>58330</td>\n",
              "      <td>1</td>\n",
              "    </tr>\n",
              "    <tr>\n",
              "      <th>105694</th>\n",
              "      <td>41971</td>\n",
              "      <td>1</td>\n",
              "    </tr>\n",
              "    <tr>\n",
              "      <th>105695</th>\n",
              "      <td>77753</td>\n",
              "      <td>1</td>\n",
              "    </tr>\n",
              "    <tr>\n",
              "      <th>105696</th>\n",
              "      <td>3281</td>\n",
              "      <td>1</td>\n",
              "    </tr>\n",
              "    <tr>\n",
              "      <th>105697</th>\n",
              "      <td>75779</td>\n",
              "      <td>1</td>\n",
              "    </tr>\n",
              "  </tbody>\n",
              "</table>\n",
              "<p>105698 rows × 2 columns</p>\n",
              "</div>"
            ],
            "text/plain": [
              "         text  is_valid\n",
              "0       98439         0\n",
              "1        3910         0\n",
              "2        3066         0\n",
              "3       47230         0\n",
              "4       12602         0\n",
              "...       ...       ...\n",
              "105693  58330         1\n",
              "105694  41971         1\n",
              "105695  77753         1\n",
              "105696   3281         1\n",
              "105697  75779         1\n",
              "\n",
              "[105698 rows x 2 columns]"
            ]
          },
          "metadata": {
            "tags": []
          },
          "execution_count": 14
        }
      ]
    },
    {
      "cell_type": "code",
      "metadata": {
        "id": "vfXRovcLaRKb"
      },
      "source": [
        ""
      ],
      "execution_count": null,
      "outputs": []
    }
  ]
}